{
 "cells": [
  {
   "cell_type": "markdown",
   "metadata": {},
   "source": [
    "<div style=\"text-align: center; background: linear-gradient(to right, #ff7e5f, #feb47b); padding: 20px; border-radius: 10px; box-shadow: 0 4px 6px rgba(0, 0, 0, 0.1);\">\n",
    "    <h3 style=\"color: white; margin: 0;\">Telecommunication Industry Project</h3>\n",
    "</div>\n",
    "\n",
    "# Introduction\n",
    "Welcome to this Jupyter notebook, a crucial part of your applied statistics learning experience. In this project, you'll be working with a dataset containing mobile phone prices and specifications.\n",
    "\n",
    "## Dataset Columns Information\n",
    "\n",
    "<table style=\"width:100%; margin-top: 20px; border-collapse: collapse;\">\n",
    "    <tr style=\"background: #ff7e5f; color: white; text-align: left;\">\n",
    "        <th style=\"padding: 10px;\">Column</th>\n",
    "        <th style=\"padding: 10px;\">Description</th>\n",
    "    </tr>\n",
    "    <tr>\n",
    "        <td style=\"border: 1px solid #ddd; padding: 8px;\">PID</td>\n",
    "        <td style=\"border: 1px solid #ddd; padding: 8px;\">Unique identifier for the phone model</td>\n",
    "    </tr>\n",
    "    <tr>\n",
    "        <td style=\"border: 1px solid #ddd; padding: 8px;\">Blue</td>\n",
    "        <td style=\"border: 1px solid #ddd; padding: 8px;\">Bluetooth support (Yes/No)</td>\n",
    "    </tr>\n",
    "    <tr>\n",
    "        <td style=\"border: 1px solid #ddd; padding: 8px;\">Wi_Fi</td>\n",
    "        <td style=\"border: 1px solid #ddd; padding: 8px;\">WiFi support (Yes/No)</td>\n",
    "    </tr>\n",
    "        </tr>\n",
    "    <tr>\n",
    "        <td style=\"border: 1px solid #ddd; padding: 8px;\">Tch_Scr</td>\n",
    "        <td style=\"border: 1px solid #ddd; padding: 8px;\">Touch screen support (Yes/No)</td>\n",
    "    </tr>\n",
    "    <tr>\n",
    "        <td style=\"border: 1px solid #ddd; padding: 8px;\">Ext_Mem</td>\n",
    "        <td style=\"border: 1px solid #ddd; padding: 8px;\">External Memory support (Yes/No)</td>\n",
    "    </tr>\n",
    "    <tr>\n",
    "        <td style=\"border: 1px solid #ddd; padding: 8px;\">Px_h</td>\n",
    "        <td style=\"border: 1px solid #ddd; padding: 8px;\">Number of pixels in the vertical axis of the phone</td>\n",
    "    </tr>\n",
    "        <tr>\n",
    "        <td style=\"border: 1px solid #ddd; padding: 8px;\">Px_w</td>\n",
    "        <td style=\"border: 1px solid #ddd; padding: 8px;\">Number of pixels in the horizontal axis of the phone</td>\n",
    "    </tr>\n",
    "    <tr>\n",
    "        <td style=\"border: 1px solid #ddd; padding: 8px;\">Scr_h</td>\n",
    "        <td style=\"border: 1px solid #ddd; padding: 8px;\">Height of the phone screen (in cm)</td>\n",
    "    </tr>\n",
    "    <tr>\n",
    "        <td style=\"border: 1px solid #ddd; padding: 8px;\">Scr_w</td>\n",
    "        <td style=\"border: 1px solid #ddd; padding: 8px;\">Width of the phone screen (in cm)</td>\n",
    "    </tr>\n",
    "        </tr>\n",
    "    <tr>\n",
    "        <td style=\"border: 1px solid #ddd; padding: 8px;\">Int_Mem</td>\n",
    "        <td style=\"border: 1px solid #ddd; padding: 8px;\">Internal memory of the phone (in MB)</td>\n",
    "    </tr>\n",
    "    <tr>\n",
    "        <td style=\"border: 1px solid #ddd; padding: 8px;\">Bty_Pwr</td>\n",
    "        <td style=\"border: 1px solid #ddd; padding: 8px;\">Maximum battery energy (in mAh)</td>\n",
    "    </tr>\n",
    "    <tr>\n",
    "        <td style=\"border: 1px solid #ddd; padding: 8px;\">PC</td>\n",
    "        <td style=\"border: 1px solid #ddd; padding: 8px;\">Primary camera resolution (in MP)</td>\n",
    "    </tr>\n",
    "        <tr>\n",
    "        <td style=\"border: 1px solid #ddd; padding: 8px;\">FC</td>\n",
    "        <td style=\"border: 1px solid #ddd; padding: 8px;\">Front camera resolution (in MP)</td>\n",
    "    </tr>\n",
    "    <tr>\n",
    "        <td style=\"border: 1px solid #ddd; padding: 8px;\">RAM</td>\n",
    "        <td style=\"border: 1px solid #ddd; padding: 8px;\">Random access memory (in GB)</td>\n",
    "    </tr>\n",
    "        <tr>\n",
    "        <td style=\"border: 1px solid #ddd; padding: 8px;\">Depth</td>\n",
    "        <td style=\"border: 1px solid #ddd; padding: 8px;\">Depth of the mobile phone (in cm)</td>\n",
    "    </tr>\n",
    "        <tr>\n",
    "        <td style=\"border: 1px solid #ddd; padding: 8px;\">Weight</td>\n",
    "        <td style=\"border: 1px solid #ddd; padding: 8px;\">Weight of the mobile phone (in g)</td>\n",
    "    </tr>\n",
    "    <tr>\n",
    "        <td style=\"border: 1px solid #ddd; padding: 8px;\">Price</td>\n",
    "        <td style=\"border: 1px solid #ddd; padding: 8px;\">Selling price of the mobile phone (in rupees)</td>\n",
    "    </tr>\n",
    "</table>\n"
   ]
  },
  {
   "cell_type": "markdown",
   "metadata": {
    "id": "YCLhIkwFO4Tj"
   },
   "source": [
    "## Task 1 - Load and study the data"
   ]
  },
  {
   "cell_type": "markdown",
   "metadata": {
    "id": "CBMdPgPUO89Y"
   },
   "source": [
    "Import the libraries that will be used in this notebook"
   ]
  },
  {
   "cell_type": "code",
   "execution_count": 1,
   "metadata": {
    "id": "z9ZS2Tw2N857"
   },
   "outputs": [],
   "source": [
    "# Load \"numpy\" and \"pandas\" for manipulating numbers and data frames\n",
    "# Load \"matplotlib.pyplot\" and \"seaborn\" for data visualisation\n",
    "# Importing the basic libraries\n",
    "import numpy as np\n",
    "import pandas as pd\n",
    "import matplotlib.pyplot as plt\n",
    "import seaborn as sns\n",
    "\n"
   ]
  },
  {
   "cell_type": "markdown",
   "metadata": {
    "id": "7rdvm8PDPCgM"
   },
   "source": [
    "Load the csv file as pandas dataframe. "
   ]
  },
  {
   "cell_type": "code",
   "execution_count": 2,
   "metadata": {
    "id": "7p5Rg_AkN858"
   },
   "outputs": [],
   "source": [
    "# Read in the \"Dataset\" file as a Pandas Data Frame\n",
    "df = pd.read_csv(\"Telecom Dataset.csv\")\n"
   ]
  },
  {
   "cell_type": "code",
   "execution_count": 3,
   "metadata": {
    "id": "WdfT3N-iN859"
   },
   "outputs": [
    {
     "data": {
      "text/html": [
       "<div>\n",
       "<style scoped>\n",
       "    .dataframe tbody tr th:only-of-type {\n",
       "        vertical-align: middle;\n",
       "    }\n",
       "\n",
       "    .dataframe tbody tr th {\n",
       "        vertical-align: top;\n",
       "    }\n",
       "\n",
       "    .dataframe thead th {\n",
       "        text-align: right;\n",
       "    }\n",
       "</style>\n",
       "<table border=\"1\" class=\"dataframe\">\n",
       "  <thead>\n",
       "    <tr style=\"text-align: right;\">\n",
       "      <th></th>\n",
       "      <th>PID</th>\n",
       "      <th>Blue</th>\n",
       "      <th>Wi_Fi</th>\n",
       "      <th>Tch_Scr</th>\n",
       "      <th>Ext_Mem</th>\n",
       "      <th>Px_h</th>\n",
       "      <th>Px_w</th>\n",
       "      <th>Scr_h</th>\n",
       "      <th>Scr_w</th>\n",
       "      <th>PC</th>\n",
       "      <th>FC</th>\n",
       "      <th>Int_Mem</th>\n",
       "      <th>Bty_Pwr</th>\n",
       "      <th>RAM</th>\n",
       "      <th>Depth</th>\n",
       "      <th>Weight</th>\n",
       "      <th>Price</th>\n",
       "    </tr>\n",
       "  </thead>\n",
       "  <tbody>\n",
       "    <tr>\n",
       "      <th>0</th>\n",
       "      <td>AAB346A</td>\n",
       "      <td>yes</td>\n",
       "      <td>yes</td>\n",
       "      <td>no</td>\n",
       "      <td>no</td>\n",
       "      <td>780</td>\n",
       "      <td>460</td>\n",
       "      <td>3</td>\n",
       "      <td>1</td>\n",
       "      <td>2</td>\n",
       "      <td>2</td>\n",
       "      <td>8</td>\n",
       "      <td>2800</td>\n",
       "      <td>2</td>\n",
       "      <td>7</td>\n",
       "      <td>320</td>\n",
       "      <td>3297</td>\n",
       "    </tr>\n",
       "    <tr>\n",
       "      <th>1</th>\n",
       "      <td>AAC347I</td>\n",
       "      <td>yes</td>\n",
       "      <td>yes</td>\n",
       "      <td>no</td>\n",
       "      <td>no</td>\n",
       "      <td>780</td>\n",
       "      <td>560</td>\n",
       "      <td>2</td>\n",
       "      <td>1</td>\n",
       "      <td>4</td>\n",
       "      <td>2</td>\n",
       "      <td>8</td>\n",
       "      <td>3000</td>\n",
       "      <td>2</td>\n",
       "      <td>7</td>\n",
       "      <td>280</td>\n",
       "      <td>4500</td>\n",
       "    </tr>\n",
       "    <tr>\n",
       "      <th>2</th>\n",
       "      <td>BAB657J</td>\n",
       "      <td>no</td>\n",
       "      <td>yes</td>\n",
       "      <td>no</td>\n",
       "      <td>no</td>\n",
       "      <td>840</td>\n",
       "      <td>720</td>\n",
       "      <td>2</td>\n",
       "      <td>1</td>\n",
       "      <td>4</td>\n",
       "      <td>2</td>\n",
       "      <td>8</td>\n",
       "      <td>3300</td>\n",
       "      <td>2</td>\n",
       "      <td>7</td>\n",
       "      <td>400</td>\n",
       "      <td>4898</td>\n",
       "    </tr>\n",
       "    <tr>\n",
       "      <th>3</th>\n",
       "      <td>BBD456K</td>\n",
       "      <td>no</td>\n",
       "      <td>yes</td>\n",
       "      <td>yes</td>\n",
       "      <td>no</td>\n",
       "      <td>1280</td>\n",
       "      <td>1120</td>\n",
       "      <td>5</td>\n",
       "      <td>3</td>\n",
       "      <td>6</td>\n",
       "      <td>2</td>\n",
       "      <td>32</td>\n",
       "      <td>3000</td>\n",
       "      <td>2</td>\n",
       "      <td>3</td>\n",
       "      <td>300</td>\n",
       "      <td>6900</td>\n",
       "    </tr>\n",
       "    <tr>\n",
       "      <th>4</th>\n",
       "      <td>CCP761U</td>\n",
       "      <td>no</td>\n",
       "      <td>yes</td>\n",
       "      <td>yes</td>\n",
       "      <td>no</td>\n",
       "      <td>1280</td>\n",
       "      <td>1080</td>\n",
       "      <td>4</td>\n",
       "      <td>3</td>\n",
       "      <td>6</td>\n",
       "      <td>2</td>\n",
       "      <td>16</td>\n",
       "      <td>3000</td>\n",
       "      <td>2</td>\n",
       "      <td>3</td>\n",
       "      <td>210</td>\n",
       "      <td>5600</td>\n",
       "    </tr>\n",
       "    <tr>\n",
       "      <th>5</th>\n",
       "      <td>CCQ674K</td>\n",
       "      <td>yes</td>\n",
       "      <td>no</td>\n",
       "      <td>no</td>\n",
       "      <td>no</td>\n",
       "      <td>1280</td>\n",
       "      <td>1080</td>\n",
       "      <td>4</td>\n",
       "      <td>3</td>\n",
       "      <td>6</td>\n",
       "      <td>4</td>\n",
       "      <td>8</td>\n",
       "      <td>2980</td>\n",
       "      <td>2</td>\n",
       "      <td>3</td>\n",
       "      <td>230</td>\n",
       "      <td>4990</td>\n",
       "    </tr>\n",
       "    <tr>\n",
       "      <th>6</th>\n",
       "      <td>CTX123L</td>\n",
       "      <td>yes</td>\n",
       "      <td>no</td>\n",
       "      <td>yes</td>\n",
       "      <td>no</td>\n",
       "      <td>1390</td>\n",
       "      <td>1080</td>\n",
       "      <td>6</td>\n",
       "      <td>3</td>\n",
       "      <td>8</td>\n",
       "      <td>4</td>\n",
       "      <td>32</td>\n",
       "      <td>3000</td>\n",
       "      <td>2</td>\n",
       "      <td>3</td>\n",
       "      <td>100</td>\n",
       "      <td>13400</td>\n",
       "    </tr>\n",
       "    <tr>\n",
       "      <th>7</th>\n",
       "      <td>DFR256N</td>\n",
       "      <td>yes</td>\n",
       "      <td>no</td>\n",
       "      <td>no</td>\n",
       "      <td>no</td>\n",
       "      <td>2880</td>\n",
       "      <td>2120</td>\n",
       "      <td>8</td>\n",
       "      <td>6</td>\n",
       "      <td>12</td>\n",
       "      <td>8</td>\n",
       "      <td>32</td>\n",
       "      <td>3200</td>\n",
       "      <td>2</td>\n",
       "      <td>3</td>\n",
       "      <td>80</td>\n",
       "      <td>15600</td>\n",
       "    </tr>\n",
       "    <tr>\n",
       "      <th>8</th>\n",
       "      <td>DGS789M</td>\n",
       "      <td>yes</td>\n",
       "      <td>yes</td>\n",
       "      <td>yes</td>\n",
       "      <td>yes</td>\n",
       "      <td>2580</td>\n",
       "      <td>1920</td>\n",
       "      <td>6</td>\n",
       "      <td>3</td>\n",
       "      <td>32</td>\n",
       "      <td>16</td>\n",
       "      <td>8</td>\n",
       "      <td>2800</td>\n",
       "      <td>6</td>\n",
       "      <td>3</td>\n",
       "      <td>120</td>\n",
       "      <td>27688</td>\n",
       "    </tr>\n",
       "    <tr>\n",
       "      <th>9</th>\n",
       "      <td>ENG897N</td>\n",
       "      <td>yes</td>\n",
       "      <td>yes</td>\n",
       "      <td>yes</td>\n",
       "      <td>yes</td>\n",
       "      <td>2580</td>\n",
       "      <td>1980</td>\n",
       "      <td>5</td>\n",
       "      <td>3</td>\n",
       "      <td>64</td>\n",
       "      <td>32</td>\n",
       "      <td>64</td>\n",
       "      <td>4380</td>\n",
       "      <td>4</td>\n",
       "      <td>3</td>\n",
       "      <td>150</td>\n",
       "      <td>23456</td>\n",
       "    </tr>\n",
       "    <tr>\n",
       "      <th>10</th>\n",
       "      <td>EOP657N</td>\n",
       "      <td>yes</td>\n",
       "      <td>yes</td>\n",
       "      <td>yes</td>\n",
       "      <td>yes</td>\n",
       "      <td>2580</td>\n",
       "      <td>1920</td>\n",
       "      <td>6</td>\n",
       "      <td>3</td>\n",
       "      <td>32</td>\n",
       "      <td>16</td>\n",
       "      <td>128</td>\n",
       "      <td>2800</td>\n",
       "      <td>4</td>\n",
       "      <td>4</td>\n",
       "      <td>210</td>\n",
       "      <td>35460</td>\n",
       "    </tr>\n",
       "    <tr>\n",
       "      <th>11</th>\n",
       "      <td>ELS333L</td>\n",
       "      <td>yes</td>\n",
       "      <td>yes</td>\n",
       "      <td>yes</td>\n",
       "      <td>yes</td>\n",
       "      <td>2580</td>\n",
       "      <td>1920</td>\n",
       "      <td>8</td>\n",
       "      <td>6</td>\n",
       "      <td>64</td>\n",
       "      <td>32</td>\n",
       "      <td>8</td>\n",
       "      <td>4500</td>\n",
       "      <td>8</td>\n",
       "      <td>4</td>\n",
       "      <td>150</td>\n",
       "      <td>43980</td>\n",
       "    </tr>\n",
       "    <tr>\n",
       "      <th>12</th>\n",
       "      <td>ETT987D</td>\n",
       "      <td>no</td>\n",
       "      <td>yes</td>\n",
       "      <td>yes</td>\n",
       "      <td>yes</td>\n",
       "      <td>2580</td>\n",
       "      <td>1980</td>\n",
       "      <td>6</td>\n",
       "      <td>5</td>\n",
       "      <td>64</td>\n",
       "      <td>32</td>\n",
       "      <td>64</td>\n",
       "      <td>4500</td>\n",
       "      <td>6</td>\n",
       "      <td>4</td>\n",
       "      <td>300</td>\n",
       "      <td>28700</td>\n",
       "    </tr>\n",
       "    <tr>\n",
       "      <th>13</th>\n",
       "      <td>NAJ56GL</td>\n",
       "      <td>no</td>\n",
       "      <td>yes</td>\n",
       "      <td>yes</td>\n",
       "      <td>no</td>\n",
       "      <td>2880</td>\n",
       "      <td>2120</td>\n",
       "      <td>6</td>\n",
       "      <td>5</td>\n",
       "      <td>32</td>\n",
       "      <td>16</td>\n",
       "      <td>64</td>\n",
       "      <td>2800</td>\n",
       "      <td>6</td>\n",
       "      <td>4</td>\n",
       "      <td>270</td>\n",
       "      <td>23600</td>\n",
       "    </tr>\n",
       "    <tr>\n",
       "      <th>14</th>\n",
       "      <td>NBN329S</td>\n",
       "      <td>yes</td>\n",
       "      <td>yes</td>\n",
       "      <td>yes</td>\n",
       "      <td>yes</td>\n",
       "      <td>2380</td>\n",
       "      <td>1820</td>\n",
       "      <td>5</td>\n",
       "      <td>3</td>\n",
       "      <td>16</td>\n",
       "      <td>8</td>\n",
       "      <td>8</td>\n",
       "      <td>2800</td>\n",
       "      <td>4</td>\n",
       "      <td>4</td>\n",
       "      <td>80</td>\n",
       "      <td>21972</td>\n",
       "    </tr>\n",
       "    <tr>\n",
       "      <th>15</th>\n",
       "      <td>NSD450I</td>\n",
       "      <td>no</td>\n",
       "      <td>no</td>\n",
       "      <td>yes</td>\n",
       "      <td>yes</td>\n",
       "      <td>1980</td>\n",
       "      <td>1760</td>\n",
       "      <td>10</td>\n",
       "      <td>8</td>\n",
       "      <td>16</td>\n",
       "      <td>16</td>\n",
       "      <td>128</td>\n",
       "      <td>3900</td>\n",
       "      <td>6</td>\n",
       "      <td>4</td>\n",
       "      <td>180</td>\n",
       "      <td>23456</td>\n",
       "    </tr>\n",
       "    <tr>\n",
       "      <th>16</th>\n",
       "      <td>PDF768G</td>\n",
       "      <td>no</td>\n",
       "      <td>no</td>\n",
       "      <td>yes</td>\n",
       "      <td>yes</td>\n",
       "      <td>2580</td>\n",
       "      <td>1980</td>\n",
       "      <td>8</td>\n",
       "      <td>6</td>\n",
       "      <td>64</td>\n",
       "      <td>32</td>\n",
       "      <td>128</td>\n",
       "      <td>3300</td>\n",
       "      <td>4</td>\n",
       "      <td>3</td>\n",
       "      <td>160</td>\n",
       "      <td>22650</td>\n",
       "    </tr>\n",
       "    <tr>\n",
       "      <th>17</th>\n",
       "      <td>PDG234M</td>\n",
       "      <td>no</td>\n",
       "      <td>no</td>\n",
       "      <td>yes</td>\n",
       "      <td>yes</td>\n",
       "      <td>2880</td>\n",
       "      <td>2120</td>\n",
       "      <td>8</td>\n",
       "      <td>6</td>\n",
       "      <td>8</td>\n",
       "      <td>8</td>\n",
       "      <td>64</td>\n",
       "      <td>2800</td>\n",
       "      <td>4</td>\n",
       "      <td>3</td>\n",
       "      <td>250</td>\n",
       "      <td>19806</td>\n",
       "    </tr>\n",
       "    <tr>\n",
       "      <th>18</th>\n",
       "      <td>PEL111K</td>\n",
       "      <td>no</td>\n",
       "      <td>no</td>\n",
       "      <td>yes</td>\n",
       "      <td>yes</td>\n",
       "      <td>1980</td>\n",
       "      <td>1760</td>\n",
       "      <td>8</td>\n",
       "      <td>6</td>\n",
       "      <td>12</td>\n",
       "      <td>4</td>\n",
       "      <td>8</td>\n",
       "      <td>4000</td>\n",
       "      <td>4</td>\n",
       "      <td>3</td>\n",
       "      <td>330</td>\n",
       "      <td>11388</td>\n",
       "    </tr>\n",
       "    <tr>\n",
       "      <th>19</th>\n",
       "      <td>PNWD777L</td>\n",
       "      <td>no</td>\n",
       "      <td>no</td>\n",
       "      <td>yes</td>\n",
       "      <td>yes</td>\n",
       "      <td>2880</td>\n",
       "      <td>2120</td>\n",
       "      <td>4</td>\n",
       "      <td>3</td>\n",
       "      <td>24</td>\n",
       "      <td>12</td>\n",
       "      <td>64</td>\n",
       "      <td>2800</td>\n",
       "      <td>4</td>\n",
       "      <td>3</td>\n",
       "      <td>200</td>\n",
       "      <td>14350</td>\n",
       "    </tr>\n",
       "    <tr>\n",
       "      <th>20</th>\n",
       "      <td>POP857R</td>\n",
       "      <td>no</td>\n",
       "      <td>yes</td>\n",
       "      <td>yes</td>\n",
       "      <td>yes</td>\n",
       "      <td>1980</td>\n",
       "      <td>1760</td>\n",
       "      <td>4</td>\n",
       "      <td>3</td>\n",
       "      <td>32</td>\n",
       "      <td>16</td>\n",
       "      <td>16</td>\n",
       "      <td>2800</td>\n",
       "      <td>4</td>\n",
       "      <td>3</td>\n",
       "      <td>150</td>\n",
       "      <td>24560</td>\n",
       "    </tr>\n",
       "    <tr>\n",
       "      <th>21</th>\n",
       "      <td>QWR222Y</td>\n",
       "      <td>no</td>\n",
       "      <td>yes</td>\n",
       "      <td>yes</td>\n",
       "      <td>yes</td>\n",
       "      <td>2580</td>\n",
       "      <td>1980</td>\n",
       "      <td>8</td>\n",
       "      <td>6</td>\n",
       "      <td>64</td>\n",
       "      <td>32</td>\n",
       "      <td>128</td>\n",
       "      <td>4400</td>\n",
       "      <td>4</td>\n",
       "      <td>3</td>\n",
       "      <td>160</td>\n",
       "      <td>21350</td>\n",
       "    </tr>\n",
       "    <tr>\n",
       "      <th>22</th>\n",
       "      <td>QZR577O</td>\n",
       "      <td>no</td>\n",
       "      <td>yes</td>\n",
       "      <td>yes</td>\n",
       "      <td>yes</td>\n",
       "      <td>1440</td>\n",
       "      <td>1280</td>\n",
       "      <td>4</td>\n",
       "      <td>3</td>\n",
       "      <td>8</td>\n",
       "      <td>8</td>\n",
       "      <td>64</td>\n",
       "      <td>2800</td>\n",
       "      <td>8</td>\n",
       "      <td>3</td>\n",
       "      <td>170</td>\n",
       "      <td>16999</td>\n",
       "    </tr>\n",
       "    <tr>\n",
       "      <th>23</th>\n",
       "      <td>RAY344W</td>\n",
       "      <td>no</td>\n",
       "      <td>yes</td>\n",
       "      <td>yes</td>\n",
       "      <td>yes</td>\n",
       "      <td>2880</td>\n",
       "      <td>2120</td>\n",
       "      <td>10</td>\n",
       "      <td>8</td>\n",
       "      <td>8</td>\n",
       "      <td>4</td>\n",
       "      <td>16</td>\n",
       "      <td>4800</td>\n",
       "      <td>8</td>\n",
       "      <td>3</td>\n",
       "      <td>170</td>\n",
       "      <td>18900</td>\n",
       "    </tr>\n",
       "    <tr>\n",
       "      <th>24</th>\n",
       "      <td>RBZ451D</td>\n",
       "      <td>no</td>\n",
       "      <td>yes</td>\n",
       "      <td>yes</td>\n",
       "      <td>yes</td>\n",
       "      <td>1440</td>\n",
       "      <td>1280</td>\n",
       "      <td>6</td>\n",
       "      <td>4</td>\n",
       "      <td>8</td>\n",
       "      <td>4</td>\n",
       "      <td>32</td>\n",
       "      <td>2800</td>\n",
       "      <td>8</td>\n",
       "      <td>3</td>\n",
       "      <td>150</td>\n",
       "      <td>17890</td>\n",
       "    </tr>\n",
       "    <tr>\n",
       "      <th>25</th>\n",
       "      <td>SDO555G</td>\n",
       "      <td>no</td>\n",
       "      <td>yes</td>\n",
       "      <td>yes</td>\n",
       "      <td>yes</td>\n",
       "      <td>2580</td>\n",
       "      <td>1980</td>\n",
       "      <td>6</td>\n",
       "      <td>3</td>\n",
       "      <td>64</td>\n",
       "      <td>32</td>\n",
       "      <td>64</td>\n",
       "      <td>4500</td>\n",
       "      <td>8</td>\n",
       "      <td>3</td>\n",
       "      <td>210</td>\n",
       "      <td>22000</td>\n",
       "    </tr>\n",
       "    <tr>\n",
       "      <th>26</th>\n",
       "      <td>SET568R</td>\n",
       "      <td>no</td>\n",
       "      <td>yes</td>\n",
       "      <td>yes</td>\n",
       "      <td>yes</td>\n",
       "      <td>1980</td>\n",
       "      <td>1280</td>\n",
       "      <td>5</td>\n",
       "      <td>3</td>\n",
       "      <td>8</td>\n",
       "      <td>4</td>\n",
       "      <td>128</td>\n",
       "      <td>4500</td>\n",
       "      <td>8</td>\n",
       "      <td>3</td>\n",
       "      <td>220</td>\n",
       "      <td>41320</td>\n",
       "    </tr>\n",
       "    <tr>\n",
       "      <th>27</th>\n",
       "      <td>SFK567Y</td>\n",
       "      <td>yes</td>\n",
       "      <td>yes</td>\n",
       "      <td>yes</td>\n",
       "      <td>yes</td>\n",
       "      <td>2580</td>\n",
       "      <td>2120</td>\n",
       "      <td>8</td>\n",
       "      <td>6</td>\n",
       "      <td>64</td>\n",
       "      <td>16</td>\n",
       "      <td>32</td>\n",
       "      <td>4300</td>\n",
       "      <td>8</td>\n",
       "      <td>3</td>\n",
       "      <td>200</td>\n",
       "      <td>49899</td>\n",
       "    </tr>\n",
       "    <tr>\n",
       "      <th>28</th>\n",
       "      <td>SSD000L</td>\n",
       "      <td>yes</td>\n",
       "      <td>yes</td>\n",
       "      <td>yes</td>\n",
       "      <td>yes</td>\n",
       "      <td>2580</td>\n",
       "      <td>2120</td>\n",
       "      <td>8</td>\n",
       "      <td>6</td>\n",
       "      <td>64</td>\n",
       "      <td>32</td>\n",
       "      <td>512</td>\n",
       "      <td>4200</td>\n",
       "      <td>8</td>\n",
       "      <td>3</td>\n",
       "      <td>270</td>\n",
       "      <td>36555</td>\n",
       "    </tr>\n",
       "    <tr>\n",
       "      <th>29</th>\n",
       "      <td>SYL888P</td>\n",
       "      <td>no</td>\n",
       "      <td>yes</td>\n",
       "      <td>yes</td>\n",
       "      <td>yes</td>\n",
       "      <td>2580</td>\n",
       "      <td>2120</td>\n",
       "      <td>8</td>\n",
       "      <td>6</td>\n",
       "      <td>64</td>\n",
       "      <td>16</td>\n",
       "      <td>256</td>\n",
       "      <td>5000</td>\n",
       "      <td>8</td>\n",
       "      <td>3</td>\n",
       "      <td>320</td>\n",
       "      <td>32459</td>\n",
       "    </tr>\n",
       "    <tr>\n",
       "      <th>30</th>\n",
       "      <td>TVF078Y</td>\n",
       "      <td>yes</td>\n",
       "      <td>yes</td>\n",
       "      <td>yes</td>\n",
       "      <td>yes</td>\n",
       "      <td>2580</td>\n",
       "      <td>2120</td>\n",
       "      <td>8</td>\n",
       "      <td>6</td>\n",
       "      <td>64</td>\n",
       "      <td>32</td>\n",
       "      <td>512</td>\n",
       "      <td>4860</td>\n",
       "      <td>8</td>\n",
       "      <td>3</td>\n",
       "      <td>90</td>\n",
       "      <td>29999</td>\n",
       "    </tr>\n",
       "    <tr>\n",
       "      <th>31</th>\n",
       "      <td>TYQ109G</td>\n",
       "      <td>no</td>\n",
       "      <td>yes</td>\n",
       "      <td>yes</td>\n",
       "      <td>yes</td>\n",
       "      <td>2580</td>\n",
       "      <td>2120</td>\n",
       "      <td>8</td>\n",
       "      <td>6</td>\n",
       "      <td>32</td>\n",
       "      <td>16</td>\n",
       "      <td>256</td>\n",
       "      <td>3300</td>\n",
       "      <td>8</td>\n",
       "      <td>3</td>\n",
       "      <td>110</td>\n",
       "      <td>45899</td>\n",
       "    </tr>\n",
       "    <tr>\n",
       "      <th>32</th>\n",
       "      <td>TYS938L</td>\n",
       "      <td>yes</td>\n",
       "      <td>yes</td>\n",
       "      <td>yes</td>\n",
       "      <td>yes</td>\n",
       "      <td>2580</td>\n",
       "      <td>2120</td>\n",
       "      <td>8</td>\n",
       "      <td>6</td>\n",
       "      <td>64</td>\n",
       "      <td>32</td>\n",
       "      <td>1024</td>\n",
       "      <td>4860</td>\n",
       "      <td>8</td>\n",
       "      <td>3</td>\n",
       "      <td>120</td>\n",
       "      <td>46777</td>\n",
       "    </tr>\n",
       "    <tr>\n",
       "      <th>33</th>\n",
       "      <td>TYU444Q</td>\n",
       "      <td>no</td>\n",
       "      <td>yes</td>\n",
       "      <td>yes</td>\n",
       "      <td>yes</td>\n",
       "      <td>2580</td>\n",
       "      <td>2120</td>\n",
       "      <td>8</td>\n",
       "      <td>6</td>\n",
       "      <td>64</td>\n",
       "      <td>32</td>\n",
       "      <td>128</td>\n",
       "      <td>2800</td>\n",
       "      <td>8</td>\n",
       "      <td>3</td>\n",
       "      <td>120</td>\n",
       "      <td>45680</td>\n",
       "    </tr>\n",
       "    <tr>\n",
       "      <th>34</th>\n",
       "      <td>TYY453J</td>\n",
       "      <td>yes</td>\n",
       "      <td>yes</td>\n",
       "      <td>yes</td>\n",
       "      <td>yes</td>\n",
       "      <td>2880</td>\n",
       "      <td>2120</td>\n",
       "      <td>6</td>\n",
       "      <td>3</td>\n",
       "      <td>64</td>\n",
       "      <td>32</td>\n",
       "      <td>128</td>\n",
       "      <td>4400</td>\n",
       "      <td>8</td>\n",
       "      <td>4</td>\n",
       "      <td>150</td>\n",
       "      <td>61750</td>\n",
       "    </tr>\n",
       "    <tr>\n",
       "      <th>35</th>\n",
       "      <td>ULI999T</td>\n",
       "      <td>no</td>\n",
       "      <td>yes</td>\n",
       "      <td>yes</td>\n",
       "      <td>yes</td>\n",
       "      <td>2440</td>\n",
       "      <td>2120</td>\n",
       "      <td>5</td>\n",
       "      <td>3</td>\n",
       "      <td>32</td>\n",
       "      <td>16</td>\n",
       "      <td>64</td>\n",
       "      <td>2800</td>\n",
       "      <td>8</td>\n",
       "      <td>4</td>\n",
       "      <td>210</td>\n",
       "      <td>42000</td>\n",
       "    </tr>\n",
       "    <tr>\n",
       "      <th>36</th>\n",
       "      <td>UST000T</td>\n",
       "      <td>yes</td>\n",
       "      <td>yes</td>\n",
       "      <td>yes</td>\n",
       "      <td>yes</td>\n",
       "      <td>2580</td>\n",
       "      <td>1980</td>\n",
       "      <td>10</td>\n",
       "      <td>8</td>\n",
       "      <td>64</td>\n",
       "      <td>32</td>\n",
       "      <td>32</td>\n",
       "      <td>3000</td>\n",
       "      <td>4</td>\n",
       "      <td>4</td>\n",
       "      <td>240</td>\n",
       "      <td>34589</td>\n",
       "    </tr>\n",
       "    <tr>\n",
       "      <th>37</th>\n",
       "      <td>USZ111S</td>\n",
       "      <td>yes</td>\n",
       "      <td>yes</td>\n",
       "      <td>yes</td>\n",
       "      <td>yes</td>\n",
       "      <td>2440</td>\n",
       "      <td>1980</td>\n",
       "      <td>5</td>\n",
       "      <td>3</td>\n",
       "      <td>48</td>\n",
       "      <td>32</td>\n",
       "      <td>128</td>\n",
       "      <td>4800</td>\n",
       "      <td>4</td>\n",
       "      <td>4</td>\n",
       "      <td>230</td>\n",
       "      <td>42300</td>\n",
       "    </tr>\n",
       "    <tr>\n",
       "      <th>38</th>\n",
       "      <td>VWV532Y</td>\n",
       "      <td>yes</td>\n",
       "      <td>yes</td>\n",
       "      <td>yes</td>\n",
       "      <td>yes</td>\n",
       "      <td>2580</td>\n",
       "      <td>1920</td>\n",
       "      <td>5</td>\n",
       "      <td>3</td>\n",
       "      <td>64</td>\n",
       "      <td>32</td>\n",
       "      <td>32</td>\n",
       "      <td>4860</td>\n",
       "      <td>8</td>\n",
       "      <td>4</td>\n",
       "      <td>310</td>\n",
       "      <td>39781</td>\n",
       "    </tr>\n",
       "    <tr>\n",
       "      <th>39</th>\n",
       "      <td>VYI666I</td>\n",
       "      <td>yes</td>\n",
       "      <td>yes</td>\n",
       "      <td>yes</td>\n",
       "      <td>yes</td>\n",
       "      <td>2440</td>\n",
       "      <td>1980</td>\n",
       "      <td>6</td>\n",
       "      <td>5</td>\n",
       "      <td>32</td>\n",
       "      <td>16</td>\n",
       "      <td>32</td>\n",
       "      <td>3200</td>\n",
       "      <td>4</td>\n",
       "      <td>4</td>\n",
       "      <td>180</td>\n",
       "      <td>33460</td>\n",
       "    </tr>\n",
       "    <tr>\n",
       "      <th>40</th>\n",
       "      <td>WER765T</td>\n",
       "      <td>yes</td>\n",
       "      <td>yes</td>\n",
       "      <td>yes</td>\n",
       "      <td>yes</td>\n",
       "      <td>2580</td>\n",
       "      <td>1980</td>\n",
       "      <td>5</td>\n",
       "      <td>3</td>\n",
       "      <td>64</td>\n",
       "      <td>32</td>\n",
       "      <td>128</td>\n",
       "      <td>3000</td>\n",
       "      <td>4</td>\n",
       "      <td>4</td>\n",
       "      <td>120</td>\n",
       "      <td>34780</td>\n",
       "    </tr>\n",
       "    <tr>\n",
       "      <th>41</th>\n",
       "      <td>WUV902Y</td>\n",
       "      <td>yes</td>\n",
       "      <td>yes</td>\n",
       "      <td>yes</td>\n",
       "      <td>yes</td>\n",
       "      <td>2580</td>\n",
       "      <td>1980</td>\n",
       "      <td>8</td>\n",
       "      <td>6</td>\n",
       "      <td>48</td>\n",
       "      <td>16</td>\n",
       "      <td>128</td>\n",
       "      <td>3400</td>\n",
       "      <td>4</td>\n",
       "      <td>3</td>\n",
       "      <td>140</td>\n",
       "      <td>28000</td>\n",
       "    </tr>\n",
       "    <tr>\n",
       "      <th>42</th>\n",
       "      <td>WZB298K</td>\n",
       "      <td>yes</td>\n",
       "      <td>yes</td>\n",
       "      <td>yes</td>\n",
       "      <td>yes</td>\n",
       "      <td>2580</td>\n",
       "      <td>1980</td>\n",
       "      <td>8</td>\n",
       "      <td>6</td>\n",
       "      <td>64</td>\n",
       "      <td>32</td>\n",
       "      <td>1024</td>\n",
       "      <td>5600</td>\n",
       "      <td>8</td>\n",
       "      <td>3</td>\n",
       "      <td>160</td>\n",
       "      <td>39000</td>\n",
       "    </tr>\n",
       "    <tr>\n",
       "      <th>43</th>\n",
       "      <td>XKL901R</td>\n",
       "      <td>no</td>\n",
       "      <td>yes</td>\n",
       "      <td>yes</td>\n",
       "      <td>yes</td>\n",
       "      <td>2580</td>\n",
       "      <td>1980</td>\n",
       "      <td>8</td>\n",
       "      <td>6</td>\n",
       "      <td>32</td>\n",
       "      <td>16</td>\n",
       "      <td>256</td>\n",
       "      <td>3900</td>\n",
       "      <td>4</td>\n",
       "      <td>3</td>\n",
       "      <td>210</td>\n",
       "      <td>54320</td>\n",
       "    </tr>\n",
       "    <tr>\n",
       "      <th>44</th>\n",
       "      <td>XTL675G</td>\n",
       "      <td>yes</td>\n",
       "      <td>yes</td>\n",
       "      <td>yes</td>\n",
       "      <td>yes</td>\n",
       "      <td>2580</td>\n",
       "      <td>1980</td>\n",
       "      <td>10</td>\n",
       "      <td>8</td>\n",
       "      <td>64</td>\n",
       "      <td>32</td>\n",
       "      <td>512</td>\n",
       "      <td>4560</td>\n",
       "      <td>8</td>\n",
       "      <td>3</td>\n",
       "      <td>260</td>\n",
       "      <td>51230</td>\n",
       "    </tr>\n",
       "    <tr>\n",
       "      <th>45</th>\n",
       "      <td>XXV567F</td>\n",
       "      <td>no</td>\n",
       "      <td>yes</td>\n",
       "      <td>yes</td>\n",
       "      <td>yes</td>\n",
       "      <td>2580</td>\n",
       "      <td>1980</td>\n",
       "      <td>8</td>\n",
       "      <td>6</td>\n",
       "      <td>64</td>\n",
       "      <td>32</td>\n",
       "      <td>64</td>\n",
       "      <td>2300</td>\n",
       "      <td>4</td>\n",
       "      <td>3</td>\n",
       "      <td>250</td>\n",
       "      <td>43990</td>\n",
       "    </tr>\n",
       "    <tr>\n",
       "      <th>46</th>\n",
       "      <td>YTR67TY</td>\n",
       "      <td>yes</td>\n",
       "      <td>yes</td>\n",
       "      <td>yes</td>\n",
       "      <td>yes</td>\n",
       "      <td>2580</td>\n",
       "      <td>1980</td>\n",
       "      <td>4</td>\n",
       "      <td>3</td>\n",
       "      <td>64</td>\n",
       "      <td>32</td>\n",
       "      <td>64</td>\n",
       "      <td>2800</td>\n",
       "      <td>4</td>\n",
       "      <td>3</td>\n",
       "      <td>200</td>\n",
       "      <td>56000</td>\n",
       "    </tr>\n",
       "    <tr>\n",
       "      <th>47</th>\n",
       "      <td>ZDF789K</td>\n",
       "      <td>yes</td>\n",
       "      <td>yes</td>\n",
       "      <td>yes</td>\n",
       "      <td>no</td>\n",
       "      <td>2880</td>\n",
       "      <td>2520</td>\n",
       "      <td>8</td>\n",
       "      <td>6</td>\n",
       "      <td>64</td>\n",
       "      <td>32</td>\n",
       "      <td>512</td>\n",
       "      <td>5600</td>\n",
       "      <td>12</td>\n",
       "      <td>2</td>\n",
       "      <td>80</td>\n",
       "      <td>84566</td>\n",
       "    </tr>\n",
       "    <tr>\n",
       "      <th>48</th>\n",
       "      <td>ZEO567M</td>\n",
       "      <td>yes</td>\n",
       "      <td>yes</td>\n",
       "      <td>yes</td>\n",
       "      <td>no</td>\n",
       "      <td>2880</td>\n",
       "      <td>2520</td>\n",
       "      <td>8</td>\n",
       "      <td>6</td>\n",
       "      <td>128</td>\n",
       "      <td>64</td>\n",
       "      <td>512</td>\n",
       "      <td>5600</td>\n",
       "      <td>12</td>\n",
       "      <td>2</td>\n",
       "      <td>110</td>\n",
       "      <td>88999</td>\n",
       "    </tr>\n",
       "    <tr>\n",
       "      <th>49</th>\n",
       "      <td>ZZZ909X</td>\n",
       "      <td>yes</td>\n",
       "      <td>yes</td>\n",
       "      <td>yes</td>\n",
       "      <td>no</td>\n",
       "      <td>2880</td>\n",
       "      <td>2520</td>\n",
       "      <td>8</td>\n",
       "      <td>6</td>\n",
       "      <td>128</td>\n",
       "      <td>64</td>\n",
       "      <td>1024</td>\n",
       "      <td>5600</td>\n",
       "      <td>12</td>\n",
       "      <td>2</td>\n",
       "      <td>130</td>\n",
       "      <td>149000</td>\n",
       "    </tr>\n",
       "  </tbody>\n",
       "</table>\n",
       "</div>"
      ],
      "text/plain": [
       "         PID Blue Wi_Fi Tch_Scr Ext_Mem  Px_h  Px_w  Scr_h  Scr_w   PC  FC  \\\n",
       "0    AAB346A  yes   yes      no      no   780   460      3      1    2   2   \n",
       "1    AAC347I  yes   yes      no      no   780   560      2      1    4   2   \n",
       "2    BAB657J   no   yes      no      no   840   720      2      1    4   2   \n",
       "3    BBD456K   no   yes     yes      no  1280  1120      5      3    6   2   \n",
       "4    CCP761U   no   yes     yes      no  1280  1080      4      3    6   2   \n",
       "5    CCQ674K  yes    no      no      no  1280  1080      4      3    6   4   \n",
       "6    CTX123L  yes    no     yes      no  1390  1080      6      3    8   4   \n",
       "7    DFR256N  yes    no      no      no  2880  2120      8      6   12   8   \n",
       "8    DGS789M  yes   yes     yes     yes  2580  1920      6      3   32  16   \n",
       "9    ENG897N  yes   yes     yes     yes  2580  1980      5      3   64  32   \n",
       "10   EOP657N  yes   yes     yes     yes  2580  1920      6      3   32  16   \n",
       "11   ELS333L  yes   yes     yes     yes  2580  1920      8      6   64  32   \n",
       "12   ETT987D   no   yes     yes     yes  2580  1980      6      5   64  32   \n",
       "13   NAJ56GL   no   yes     yes      no  2880  2120      6      5   32  16   \n",
       "14   NBN329S  yes   yes     yes     yes  2380  1820      5      3   16   8   \n",
       "15   NSD450I   no    no     yes     yes  1980  1760     10      8   16  16   \n",
       "16   PDF768G   no    no     yes     yes  2580  1980      8      6   64  32   \n",
       "17   PDG234M   no    no     yes     yes  2880  2120      8      6    8   8   \n",
       "18   PEL111K   no    no     yes     yes  1980  1760      8      6   12   4   \n",
       "19  PNWD777L   no    no     yes     yes  2880  2120      4      3   24  12   \n",
       "20   POP857R   no   yes     yes     yes  1980  1760      4      3   32  16   \n",
       "21   QWR222Y   no   yes     yes     yes  2580  1980      8      6   64  32   \n",
       "22   QZR577O   no   yes     yes     yes  1440  1280      4      3    8   8   \n",
       "23   RAY344W   no   yes     yes     yes  2880  2120     10      8    8   4   \n",
       "24   RBZ451D   no   yes     yes     yes  1440  1280      6      4    8   4   \n",
       "25   SDO555G   no   yes     yes     yes  2580  1980      6      3   64  32   \n",
       "26   SET568R   no   yes     yes     yes  1980  1280      5      3    8   4   \n",
       "27   SFK567Y  yes   yes     yes     yes  2580  2120      8      6   64  16   \n",
       "28   SSD000L  yes   yes     yes     yes  2580  2120      8      6   64  32   \n",
       "29   SYL888P   no   yes     yes     yes  2580  2120      8      6   64  16   \n",
       "30   TVF078Y  yes   yes     yes     yes  2580  2120      8      6   64  32   \n",
       "31   TYQ109G   no   yes     yes     yes  2580  2120      8      6   32  16   \n",
       "32   TYS938L  yes   yes     yes     yes  2580  2120      8      6   64  32   \n",
       "33   TYU444Q   no   yes     yes     yes  2580  2120      8      6   64  32   \n",
       "34   TYY453J  yes   yes     yes     yes  2880  2120      6      3   64  32   \n",
       "35   ULI999T   no   yes     yes     yes  2440  2120      5      3   32  16   \n",
       "36   UST000T  yes   yes     yes     yes  2580  1980     10      8   64  32   \n",
       "37   USZ111S  yes   yes     yes     yes  2440  1980      5      3   48  32   \n",
       "38   VWV532Y  yes   yes     yes     yes  2580  1920      5      3   64  32   \n",
       "39   VYI666I  yes   yes     yes     yes  2440  1980      6      5   32  16   \n",
       "40   WER765T  yes   yes     yes     yes  2580  1980      5      3   64  32   \n",
       "41   WUV902Y  yes   yes     yes     yes  2580  1980      8      6   48  16   \n",
       "42   WZB298K  yes   yes     yes     yes  2580  1980      8      6   64  32   \n",
       "43   XKL901R   no   yes     yes     yes  2580  1980      8      6   32  16   \n",
       "44   XTL675G  yes   yes     yes     yes  2580  1980     10      8   64  32   \n",
       "45   XXV567F   no   yes     yes     yes  2580  1980      8      6   64  32   \n",
       "46   YTR67TY  yes   yes     yes     yes  2580  1980      4      3   64  32   \n",
       "47   ZDF789K  yes   yes     yes      no  2880  2520      8      6   64  32   \n",
       "48   ZEO567M  yes   yes     yes      no  2880  2520      8      6  128  64   \n",
       "49   ZZZ909X  yes   yes     yes      no  2880  2520      8      6  128  64   \n",
       "\n",
       "    Int_Mem  Bty_Pwr  RAM  Depth  Weight   Price  \n",
       "0         8     2800    2      7     320    3297  \n",
       "1         8     3000    2      7     280    4500  \n",
       "2         8     3300    2      7     400    4898  \n",
       "3        32     3000    2      3     300    6900  \n",
       "4        16     3000    2      3     210    5600  \n",
       "5         8     2980    2      3     230    4990  \n",
       "6        32     3000    2      3     100   13400  \n",
       "7        32     3200    2      3      80   15600  \n",
       "8         8     2800    6      3     120   27688  \n",
       "9        64     4380    4      3     150   23456  \n",
       "10      128     2800    4      4     210   35460  \n",
       "11        8     4500    8      4     150   43980  \n",
       "12       64     4500    6      4     300   28700  \n",
       "13       64     2800    6      4     270   23600  \n",
       "14        8     2800    4      4      80   21972  \n",
       "15      128     3900    6      4     180   23456  \n",
       "16      128     3300    4      3     160   22650  \n",
       "17       64     2800    4      3     250   19806  \n",
       "18        8     4000    4      3     330   11388  \n",
       "19       64     2800    4      3     200   14350  \n",
       "20       16     2800    4      3     150   24560  \n",
       "21      128     4400    4      3     160   21350  \n",
       "22       64     2800    8      3     170   16999  \n",
       "23       16     4800    8      3     170   18900  \n",
       "24       32     2800    8      3     150   17890  \n",
       "25       64     4500    8      3     210   22000  \n",
       "26      128     4500    8      3     220   41320  \n",
       "27       32     4300    8      3     200   49899  \n",
       "28      512     4200    8      3     270   36555  \n",
       "29      256     5000    8      3     320   32459  \n",
       "30      512     4860    8      3      90   29999  \n",
       "31      256     3300    8      3     110   45899  \n",
       "32     1024     4860    8      3     120   46777  \n",
       "33      128     2800    8      3     120   45680  \n",
       "34      128     4400    8      4     150   61750  \n",
       "35       64     2800    8      4     210   42000  \n",
       "36       32     3000    4      4     240   34589  \n",
       "37      128     4800    4      4     230   42300  \n",
       "38       32     4860    8      4     310   39781  \n",
       "39       32     3200    4      4     180   33460  \n",
       "40      128     3000    4      4     120   34780  \n",
       "41      128     3400    4      3     140   28000  \n",
       "42     1024     5600    8      3     160   39000  \n",
       "43      256     3900    4      3     210   54320  \n",
       "44      512     4560    8      3     260   51230  \n",
       "45       64     2300    4      3     250   43990  \n",
       "46       64     2800    4      3     200   56000  \n",
       "47      512     5600   12      2      80   84566  \n",
       "48      512     5600   12      2     110   88999  \n",
       "49     1024     5600   12      2     130  149000  "
      ]
     },
     "execution_count": 3,
     "metadata": {},
     "output_type": "execute_result"
    }
   ],
   "source": [
    "# Take a brief look at the data\n",
    "df"
   ]
  },
  {
   "cell_type": "code",
   "execution_count": 4,
   "metadata": {
    "id": "0jdoVTnIN85_"
   },
   "outputs": [
    {
     "data": {
      "text/plain": [
       "(50, 17)"
      ]
     },
     "execution_count": 4,
     "metadata": {},
     "output_type": "execute_result"
    }
   ],
   "source": [
    "# Get the dimensions of the dataframe\n",
    "df.shape\n"
   ]
  },
  {
   "cell_type": "code",
   "execution_count": 5,
   "metadata": {
    "id": "y28qZAzdN86B"
   },
   "outputs": [
    {
     "data": {
      "text/html": [
       "<div>\n",
       "<style scoped>\n",
       "    .dataframe tbody tr th:only-of-type {\n",
       "        vertical-align: middle;\n",
       "    }\n",
       "\n",
       "    .dataframe tbody tr th {\n",
       "        vertical-align: top;\n",
       "    }\n",
       "\n",
       "    .dataframe thead th {\n",
       "        text-align: right;\n",
       "    }\n",
       "</style>\n",
       "<table border=\"1\" class=\"dataframe\">\n",
       "  <thead>\n",
       "    <tr style=\"text-align: right;\">\n",
       "      <th></th>\n",
       "      <th>PID</th>\n",
       "      <th>Blue</th>\n",
       "      <th>Wi_Fi</th>\n",
       "      <th>Tch_Scr</th>\n",
       "      <th>Ext_Mem</th>\n",
       "      <th>Px_h</th>\n",
       "      <th>Px_w</th>\n",
       "      <th>Scr_h</th>\n",
       "      <th>Scr_w</th>\n",
       "      <th>PC</th>\n",
       "      <th>FC</th>\n",
       "      <th>Int_Mem</th>\n",
       "      <th>Bty_Pwr</th>\n",
       "      <th>RAM</th>\n",
       "      <th>Depth</th>\n",
       "      <th>Weight</th>\n",
       "      <th>Price</th>\n",
       "    </tr>\n",
       "  </thead>\n",
       "  <tbody>\n",
       "    <tr>\n",
       "      <th>0</th>\n",
       "      <td>AAB346A</td>\n",
       "      <td>yes</td>\n",
       "      <td>yes</td>\n",
       "      <td>no</td>\n",
       "      <td>no</td>\n",
       "      <td>780</td>\n",
       "      <td>460</td>\n",
       "      <td>3</td>\n",
       "      <td>1</td>\n",
       "      <td>2</td>\n",
       "      <td>2</td>\n",
       "      <td>8</td>\n",
       "      <td>2800</td>\n",
       "      <td>2</td>\n",
       "      <td>7</td>\n",
       "      <td>320</td>\n",
       "      <td>3297</td>\n",
       "    </tr>\n",
       "    <tr>\n",
       "      <th>1</th>\n",
       "      <td>AAC347I</td>\n",
       "      <td>yes</td>\n",
       "      <td>yes</td>\n",
       "      <td>no</td>\n",
       "      <td>no</td>\n",
       "      <td>780</td>\n",
       "      <td>560</td>\n",
       "      <td>2</td>\n",
       "      <td>1</td>\n",
       "      <td>4</td>\n",
       "      <td>2</td>\n",
       "      <td>8</td>\n",
       "      <td>3000</td>\n",
       "      <td>2</td>\n",
       "      <td>7</td>\n",
       "      <td>280</td>\n",
       "      <td>4500</td>\n",
       "    </tr>\n",
       "    <tr>\n",
       "      <th>2</th>\n",
       "      <td>BAB657J</td>\n",
       "      <td>no</td>\n",
       "      <td>yes</td>\n",
       "      <td>no</td>\n",
       "      <td>no</td>\n",
       "      <td>840</td>\n",
       "      <td>720</td>\n",
       "      <td>2</td>\n",
       "      <td>1</td>\n",
       "      <td>4</td>\n",
       "      <td>2</td>\n",
       "      <td>8</td>\n",
       "      <td>3300</td>\n",
       "      <td>2</td>\n",
       "      <td>7</td>\n",
       "      <td>400</td>\n",
       "      <td>4898</td>\n",
       "    </tr>\n",
       "    <tr>\n",
       "      <th>3</th>\n",
       "      <td>BBD456K</td>\n",
       "      <td>no</td>\n",
       "      <td>yes</td>\n",
       "      <td>yes</td>\n",
       "      <td>no</td>\n",
       "      <td>1280</td>\n",
       "      <td>1120</td>\n",
       "      <td>5</td>\n",
       "      <td>3</td>\n",
       "      <td>6</td>\n",
       "      <td>2</td>\n",
       "      <td>32</td>\n",
       "      <td>3000</td>\n",
       "      <td>2</td>\n",
       "      <td>3</td>\n",
       "      <td>300</td>\n",
       "      <td>6900</td>\n",
       "    </tr>\n",
       "    <tr>\n",
       "      <th>4</th>\n",
       "      <td>CCP761U</td>\n",
       "      <td>no</td>\n",
       "      <td>yes</td>\n",
       "      <td>yes</td>\n",
       "      <td>no</td>\n",
       "      <td>1280</td>\n",
       "      <td>1080</td>\n",
       "      <td>4</td>\n",
       "      <td>3</td>\n",
       "      <td>6</td>\n",
       "      <td>2</td>\n",
       "      <td>16</td>\n",
       "      <td>3000</td>\n",
       "      <td>2</td>\n",
       "      <td>3</td>\n",
       "      <td>210</td>\n",
       "      <td>5600</td>\n",
       "    </tr>\n",
       "  </tbody>\n",
       "</table>\n",
       "</div>"
      ],
      "text/plain": [
       "       PID Blue Wi_Fi Tch_Scr Ext_Mem  Px_h  Px_w  Scr_h  Scr_w  PC  FC  \\\n",
       "0  AAB346A  yes   yes      no      no   780   460      3      1   2   2   \n",
       "1  AAC347I  yes   yes      no      no   780   560      2      1   4   2   \n",
       "2  BAB657J   no   yes      no      no   840   720      2      1   4   2   \n",
       "3  BBD456K   no   yes     yes      no  1280  1120      5      3   6   2   \n",
       "4  CCP761U   no   yes     yes      no  1280  1080      4      3   6   2   \n",
       "\n",
       "   Int_Mem  Bty_Pwr  RAM  Depth  Weight  Price  \n",
       "0        8     2800    2      7     320   3297  \n",
       "1        8     3000    2      7     280   4500  \n",
       "2        8     3300    2      7     400   4898  \n",
       "3       32     3000    2      3     300   6900  \n",
       "4       16     3000    2      3     210   5600  "
      ]
     },
     "execution_count": 5,
     "metadata": {},
     "output_type": "execute_result"
    }
   ],
   "source": [
    "# Get the row names of the dataframe\n",
    "\n",
    "df.head()"
   ]
  },
  {
   "cell_type": "code",
   "execution_count": 6,
   "metadata": {
    "id": "u3wUbIm7N86C"
   },
   "outputs": [
    {
     "data": {
      "text/plain": [
       "Index(['PID', 'Blue', 'Wi_Fi', 'Tch_Scr', 'Ext_Mem', 'Px_h', 'Px_w', 'Scr_h',\n",
       "       'Scr_w', 'PC', 'FC', 'Int_Mem', 'Bty_Pwr', 'RAM', 'Depth', 'Weight',\n",
       "       'Price'],\n",
       "      dtype='object')"
      ]
     },
     "execution_count": 6,
     "metadata": {},
     "output_type": "execute_result"
    }
   ],
   "source": [
    "# Get the column names of the dataframe\n",
    "df.columns\n"
   ]
  },
  {
   "cell_type": "code",
   "execution_count": 7,
   "metadata": {
    "id": "zoJdOWbKN86D"
   },
   "outputs": [
    {
     "name": "stdout",
     "output_type": "stream",
     "text": [
      "<class 'pandas.core.frame.DataFrame'>\n",
      "RangeIndex: 50 entries, 0 to 49\n",
      "Data columns (total 17 columns):\n",
      " #   Column   Non-Null Count  Dtype \n",
      "---  ------   --------------  ----- \n",
      " 0   PID      50 non-null     object\n",
      " 1   Blue     50 non-null     object\n",
      " 2   Wi_Fi    50 non-null     object\n",
      " 3   Tch_Scr  50 non-null     object\n",
      " 4   Ext_Mem  50 non-null     object\n",
      " 5   Px_h     50 non-null     int64 \n",
      " 6   Px_w     50 non-null     int64 \n",
      " 7   Scr_h    50 non-null     int64 \n",
      " 8   Scr_w    50 non-null     int64 \n",
      " 9   PC       50 non-null     int64 \n",
      " 10  FC       50 non-null     int64 \n",
      " 11  Int_Mem  50 non-null     int64 \n",
      " 12  Bty_Pwr  50 non-null     int64 \n",
      " 13  RAM      50 non-null     int64 \n",
      " 14  Depth    50 non-null     int64 \n",
      " 15  Weight   50 non-null     int64 \n",
      " 16  Price    50 non-null     int64 \n",
      "dtypes: int64(12), object(5)\n",
      "memory usage: 6.8+ KB\n"
     ]
    }
   ],
   "source": [
    "# Look at basic information about the dataframe\n",
    "df.info()\n"
   ]
  },
  {
   "cell_type": "markdown",
   "metadata": {
    "id": "Yp1sfFKKQQLR"
   },
   "source": [
    "Observations:\n",
    "\n",
    "There are 50 phones in the data set.\n",
    "\n",
    "There are 17 features in the data set including the \"PID\" feature which is used as the row index labels.\n",
    "\n",
    "There are no missing values in the data set."
   ]
  },
  {
   "cell_type": "code",
   "execution_count": 8,
   "metadata": {
    "id": "F7O4y4kyN86F"
   },
   "outputs": [
    {
     "data": {
      "text/plain": [
       "PID        0\n",
       "Blue       0\n",
       "Wi_Fi      0\n",
       "Tch_Scr    0\n",
       "Ext_Mem    0\n",
       "Px_h       0\n",
       "Px_w       0\n",
       "Scr_h      0\n",
       "Scr_w      0\n",
       "PC         0\n",
       "FC         0\n",
       "Int_Mem    0\n",
       "Bty_Pwr    0\n",
       "RAM        0\n",
       "Depth      0\n",
       "Weight     0\n",
       "Price      0\n",
       "dtype: int64"
      ]
     },
     "execution_count": 8,
     "metadata": {},
     "output_type": "execute_result"
    }
   ],
   "source": [
    "df.isnull().sum()"
   ]
  },
  {
   "cell_type": "markdown",
   "metadata": {
    "id": "K6wSkK61E57v"
   },
   "source": [
    "<div style=\"font-size: 40px; text-align: center; margin-top: 20px; background: linear-gradient(to right, #ff0000, #0000ff); padding: 10px; border-radius: 5px; color: white;\">\n",
    "    <p><strong>Let's try some logical operators to filter the data.</strong></p>\n",
    "</div>\n"
   ]
  },
  {
   "cell_type": "markdown",
   "metadata": {
    "id": "zBarC8WVQZG7"
   },
   "source": [
    "## Task 2 - Obtain the logical conditions for the features \"Blue\", \"Wi_Fi\", \"Tch_Scr\" and \"Ext_Mem\""
   ]
  },
  {
   "cell_type": "code",
   "execution_count": 9,
   "metadata": {
    "id": "RAV76P19N86G"
   },
   "outputs": [
    {
     "data": {
      "text/plain": [
       "Index(['PID', 'Blue', 'Wi_Fi', 'Tch_Scr', 'Ext_Mem', 'Px_h', 'Px_w', 'Scr_h',\n",
       "       'Scr_w', 'PC', 'FC', 'Int_Mem', 'Bty_Pwr', 'RAM', 'Depth', 'Weight',\n",
       "       'Price'],\n",
       "      dtype='object')"
      ]
     },
     "execution_count": 9,
     "metadata": {},
     "output_type": "execute_result"
    }
   ],
   "source": [
    "# Get the feature names of the dataframe\n",
    "df.columns\n"
   ]
  },
  {
   "cell_type": "code",
   "execution_count": 10,
   "metadata": {},
   "outputs": [],
   "source": [
    "# Creating a function to count the values of a variable\n",
    "def count_values(dataframe, column_list):\n",
    "    for column in column_list:\n",
    "        print(f\"Value counts for {column}:\")\n",
    "        print(dataframe[column].value_counts())\n",
    "        print(\"-\" * 20)\n"
   ]
  },
  {
   "cell_type": "code",
   "execution_count": 11,
   "metadata": {},
   "outputs": [],
   "source": [
    "l = [\"Blue\", \"Wi_Fi\", \"Tch_Scr\", \"Ext_Mem\"]\n"
   ]
  },
  {
   "cell_type": "code",
   "execution_count": 12,
   "metadata": {},
   "outputs": [
    {
     "name": "stdout",
     "output_type": "stream",
     "text": [
      "Value counts for Blue:\n",
      "Blue\n",
      "yes    27\n",
      "no     23\n",
      "Name: count, dtype: int64\n",
      "--------------------\n",
      "Value counts for Wi_Fi:\n",
      "Wi_Fi\n",
      "yes    42\n",
      "no      8\n",
      "Name: count, dtype: int64\n",
      "--------------------\n",
      "Value counts for Tch_Scr:\n",
      "Tch_Scr\n",
      "yes    45\n",
      "no      5\n",
      "Name: count, dtype: int64\n",
      "--------------------\n",
      "Value counts for Ext_Mem:\n",
      "Ext_Mem\n",
      "yes    38\n",
      "no     12\n",
      "Name: count, dtype: int64\n",
      "--------------------\n"
     ]
    }
   ],
   "source": [
    "count_values(df,l) "
   ]
  },
  {
   "cell_type": "markdown",
   "metadata": {},
   "source": [
    "### The children want phones that have the following: Bluetooth, WiFi, touch screen and external memory support\n",
    "### Create a logical condition for this situation and store the logical values as \"con1\""
   ]
  },
  {
   "cell_type": "code",
   "execution_count": 13,
   "metadata": {
    "id": "8N-jff5hN86I"
   },
   "outputs": [],
   "source": [
    "con1 = (df['Blue'] == 'yes') & (df['Wi_Fi'] == 'yes') & (df['Tch_Scr'] == 'yes') & (df['Ext_Mem'] == 'yes')\n"
   ]
  },
  {
   "cell_type": "code",
   "execution_count": 14,
   "metadata": {},
   "outputs": [
    {
     "data": {
      "text/plain": [
       "0    False\n",
       "1    False\n",
       "2    False\n",
       "3    False\n",
       "4    False\n",
       "dtype: bool"
      ]
     },
     "execution_count": 14,
     "metadata": {},
     "output_type": "execute_result"
    }
   ],
   "source": [
    "con1.head()"
   ]
  },
  {
   "cell_type": "markdown",
   "metadata": {
    "id": "KilesitnQjMF"
   },
   "source": [
    "Observations:\n",
    "\n",
    "The features \"Blue\", \"Wi_Fi\", \"Tch_Scr\" and \"Ext_Mem\" are binary in nature.\n",
    "\n",
    "The children want all these features, so the logical condition \"con1\" has been obtained accordingly."
   ]
  },
  {
   "cell_type": "markdown",
   "metadata": {
    "id": "n8qZScOZQsj3"
   },
   "source": [
    "## Task 3 - Obtain the logical conditions for the features \"Px_h\" and \"Px_w\""
   ]
  },
  {
   "cell_type": "code",
   "execution_count": 15,
   "metadata": {
    "id": "UgpsX9ZYN86M"
   },
   "outputs": [],
   "source": [
    "# Get the feature names of the dataframe\n",
    "l2= ['Px_h','Px_w']\n"
   ]
  },
  {
   "cell_type": "code",
   "execution_count": 16,
   "metadata": {
    "id": "HvY0q-JeN86N"
   },
   "outputs": [
    {
     "name": "stdout",
     "output_type": "stream",
     "text": [
      "Value counts for Px_h:\n",
      "Px_h\n",
      "2580    24\n",
      "2880     9\n",
      "1980     4\n",
      "1280     3\n",
      "2440     3\n",
      "780      2\n",
      "1440     2\n",
      "840      1\n",
      "1390     1\n",
      "2380     1\n",
      "Name: count, dtype: int64\n",
      "--------------------\n",
      "Value counts for Px_w:\n",
      "Px_w\n",
      "1980    15\n",
      "2120    14\n",
      "1920     4\n",
      "1080     3\n",
      "1760     3\n",
      "1280     3\n",
      "2520     3\n",
      "460      1\n",
      "560      1\n",
      "720      1\n",
      "1120     1\n",
      "1820     1\n",
      "Name: count, dtype: int64\n",
      "--------------------\n"
     ]
    }
   ],
   "source": [
    "# Let's tackle these features: \"Px_h\", \"Px_w\"\n",
    "count_values(df,l2)"
   ]
  },
  {
   "cell_type": "code",
   "execution_count": 17,
   "metadata": {
    "id": "9g8VvPLiN86O"
   },
   "outputs": [],
   "source": [
    "# Create a new feature called \"Px\" which stores the total resolution of the screen\n",
    "df['Px'] = df['Px_h'] + df['Px_w']\n"
   ]
  },
  {
   "cell_type": "code",
   "execution_count": 18,
   "metadata": {},
   "outputs": [
    {
     "data": {
      "text/plain": [
       "Px\n",
       "4560    14\n",
       "4700     7\n",
       "5000     6\n",
       "4500     4\n",
       "3740     3\n",
       "5400     3\n",
       "2360     2\n",
       "2720     2\n",
       "4420     2\n",
       "1240     1\n",
       "1340     1\n",
       "1560     1\n",
       "2400     1\n",
       "2470     1\n",
       "4200     1\n",
       "3260     1\n",
       "Name: count, dtype: int64"
      ]
     },
     "execution_count": 18,
     "metadata": {},
     "output_type": "execute_result"
    }
   ],
   "source": [
    "df['Px'].value_counts()"
   ]
  },
  {
   "cell_type": "code",
   "execution_count": 19,
   "metadata": {
    "id": "nbYsIHpjN86P"
   },
   "outputs": [
    {
     "data": {
      "image/png": "[encoded data removed]",
      "text/plain": [
       "<Figure size 1000x600 with 1 Axes>"
      ]
     },
     "metadata": {},
     "output_type": "display_data"
    }
   ],
   "source": [
    "# Create a histogram of the \"Px\" feature and also show the mean and the median\n",
    "# Plotting the histogram\n",
    "plt.figure(figsize=(10, 6))\n",
    "plt.hist(df['Px'], bins=20, color='skyblue', edgecolor='black')\n",
    "plt.title('Histogram of Px Feature')\n",
    "plt.xlabel('Total Resolution of the Screen (Px)')\n",
    "plt.ylabel('Frequency')\n",
    "\n",
    "# Adding mean and median lines\n",
    "mean_value = df['Px'].mean()\n",
    "median_value = df['Px'].median()\n",
    "plt.axvline(mean_value, color='red', linestyle='dashed', linewidth=2, label=f'Mean: {mean_value:.2f}')\n",
    "plt.axvline(median_value, color='green', linestyle='dashed', linewidth=2, label=f'Median: {median_value:.2f}')\n",
    "plt.legend()\n",
    "plt.show()\n"
   ]
  },
  {
   "cell_type": "markdown",
   "metadata": {},
   "source": [
    "### The children want phones that have good screen resolutions\n",
    "### Consider the phones that have screen resolutions greater than or equal to the median value in the data set\n",
    "### Create a logical condition for this situation and store the logical values as \"con2\""
   ]
  },
  {
   "cell_type": "code",
   "execution_count": 20,
   "metadata": {
    "id": "SxaYgagyN86Q"
   },
   "outputs": [],
   "source": [
    "\n",
    "\n",
    "# Calculate the median screen resolution\n",
    "median_resolution = df['Px'].median()\n",
    "\n",
    "# Create the logical condition con2\n",
    "con2 = df['Px'] >= median_resolution\n"
   ]
  },
  {
   "cell_type": "code",
   "execution_count": 21,
   "metadata": {},
   "outputs": [
    {
     "data": {
      "text/plain": [
       "0    False\n",
       "1    False\n",
       "2    False\n",
       "3    False\n",
       "4    False\n",
       "Name: Px, dtype: bool"
      ]
     },
     "execution_count": 21,
     "metadata": {},
     "output_type": "execute_result"
    }
   ],
   "source": [
    "con2.head()\n",
    "\n"
   ]
  },
  {
   "cell_type": "markdown",
   "metadata": {
    "id": "M-DC9VY2RBZQ"
   },
   "source": [
    "Observations:\n",
    "\n",
    "The features \"Px_h\" and \"Px_w\" are respectively the number of pixels in the phone screen in the vertical and horizontal axes.\n",
    "\n",
    "We created a new feature called \"Px\" which is the product of the features \"Px_h\" and \"Px_w\".\n",
    "\n",
    "The median has been selected as a threshold in this case.\n",
    "\n",
    "In case it is too strict, we can choose the mean as a threshold."
   ]
  },
  {
   "cell_type": "markdown",
   "metadata": {
    "id": "ih3ev8-0RJg5"
   },
   "source": [
    "# Task 4 - Obtain the logical conditions for the features \"Scr_h\" and \"Scr_w\""
   ]
  },
  {
   "cell_type": "code",
   "execution_count": 22,
   "metadata": {
    "id": "EsEcEKKTN86T"
   },
   "outputs": [],
   "source": [
    "# Let's tackle these features: \"Scr_h\", \"Scr_w\"\n",
    "l3 = ['Scr_h','Scr_w']"
   ]
  },
  {
   "cell_type": "code",
   "execution_count": 23,
   "metadata": {},
   "outputs": [
    {
     "name": "stdout",
     "output_type": "stream",
     "text": [
      "Value counts for Scr_h:\n",
      "Scr_h\n",
      "8     20\n",
      "6      9\n",
      "5      8\n",
      "4      6\n",
      "10     4\n",
      "2      2\n",
      "3      1\n",
      "Name: count, dtype: int64\n",
      "--------------------\n",
      "Value counts for Scr_w:\n",
      "Scr_w\n",
      "6    20\n",
      "3    19\n",
      "8     4\n",
      "1     3\n",
      "5     3\n",
      "4     1\n",
      "Name: count, dtype: int64\n",
      "--------------------\n"
     ]
    }
   ],
   "source": [
    "count_values(df,l3)"
   ]
  },
  {
   "cell_type": "code",
   "execution_count": 24,
   "metadata": {
    "id": "qTOcx3FCN86U"
   },
   "outputs": [],
   "source": [
    "# Create a new feature called \"Scr_d\" which stores the length of the diagonal of the screen of the phone\n",
    "df['Scr_d'] = np.sqrt(df['Scr_h']**2 + df['Scr_w']**2)\n"
   ]
  },
  {
   "cell_type": "code",
   "execution_count": 25,
   "metadata": {},
   "outputs": [
    {
     "data": {
      "text/plain": [
       "0    3.162278\n",
       "1    2.236068\n",
       "2    2.236068\n",
       "3    5.830952\n",
       "4    5.000000\n",
       "Name: Scr_d, dtype: float64"
      ]
     },
     "execution_count": 25,
     "metadata": {},
     "output_type": "execute_result"
    }
   ],
   "source": [
    "df['Scr_d'].head()"
   ]
  },
  {
   "cell_type": "markdown",
   "metadata": {},
   "source": [
    "### Create a histogram of the \"Scr_d\" feature and also show the quartiles\n"
   ]
  },
  {
   "cell_type": "code",
   "execution_count": 26,
   "metadata": {
    "id": "83gzdEN7N86U"
   },
   "outputs": [
    {
     "data": {
      "image/png": "[encoded data removed]",
      "text/plain": [
       "<Figure size 1000x600 with 1 Axes>"
      ]
     },
     "metadata": {},
     "output_type": "display_data"
    }
   ],
   "source": [
    "# Plotting the histogram\n",
    "plt.figure(figsize=(10, 6))\n",
    "plt.hist(df['Scr_d'], bins=20, color='skyblue', edgecolor='black')\n",
    "plt.title('Histogram of Scr_d Feature')\n",
    "plt.xlabel('Length of Diagonal of the Screen (Scr_d)')\n",
    "plt.ylabel('Frequency')\n",
    "\n",
    "# Adding quartile lines\n",
    "q25 = df['Scr_d'].quantile(0.25)\n",
    "q50 = df['Scr_d'].quantile(0.50)\n",
    "q75 = df['Scr_d'].quantile(0.75)\n",
    "plt.axvline(q25, color='red', linestyle='dashed', linewidth=2, label=f'Q1: {q25:.2f}')\n",
    "plt.axvline(q50, color='green', linestyle='dashed', linewidth=2, label=f'Median: {q50:.2f}')\n",
    "plt.axvline(q75, color='blue', linestyle='dashed', linewidth=2, label=f'Q3: {q75:.2f}')\n",
    "plt.legend()\n",
    "plt.show()\n"
   ]
  },
  {
   "cell_type": "markdown",
   "metadata": {},
   "source": [
    "### The children want phones that have very good screen sizes\n",
    "### Consider the phones that have screen sizes greater than or equal to the upper quartile value in the data set\n",
    "### Create a logical condition for this situation and store the logical values as \"con3\""
   ]
  },
  {
   "cell_type": "code",
   "execution_count": 27,
   "metadata": {
    "id": "aEvL_TPSN86V"
   },
   "outputs": [],
   "source": [
    "# Calculate the upper quartile value for the Scr_d feature\n",
    "upper_quartile = df['Scr_d'].quantile(0.75)\n",
    "\n",
    "# Create the logical condition con3\n",
    "con3 = df['Scr_d'] >= upper_quartile\n"
   ]
  },
  {
   "cell_type": "code",
   "execution_count": 28,
   "metadata": {},
   "outputs": [
    {
     "data": {
      "text/plain": [
       "0    False\n",
       "1    False\n",
       "2    False\n",
       "3    False\n",
       "4    False\n",
       "Name: Scr_d, dtype: bool"
      ]
     },
     "execution_count": 28,
     "metadata": {},
     "output_type": "execute_result"
    }
   ],
   "source": [
    "con3.head()"
   ]
  },
  {
   "cell_type": "markdown",
   "metadata": {
    "id": "BKDitmp9RZDe"
   },
   "source": [
    "Observations:\n",
    "\n",
    "The features \"Scr_h\" and \"Scr_w\" are respectively the height and the width of the phone screen.\n",
    "\n",
    "We created a new feature called \"Scr_d\" which is essentially the length of the screen diagonal.\n",
    "\n",
    "The upper quartile has been selected as a threshold in this case as the children were very particular on this point.\n",
    "\n",
    "In case it is too strict, we can choose the mean or the median as a threshold."
   ]
  },
  {
   "cell_type": "markdown",
   "metadata": {
    "id": "21dZEsZRRikD"
   },
   "source": [
    "# Task 5 - Obtain the logical conditions for the features \"PC\" and \"FC\""
   ]
  },
  {
   "cell_type": "code",
   "execution_count": 29,
   "metadata": {
    "id": "lCQR8DBRN86Y"
   },
   "outputs": [],
   "source": [
    "# Let's tackle these features: \"PC\", \"FC\"\n",
    "l4 = ['PC','FC']"
   ]
  },
  {
   "cell_type": "code",
   "execution_count": 30,
   "metadata": {},
   "outputs": [
    {
     "name": "stdout",
     "output_type": "stream",
     "text": [
      "Value counts for PC:\n",
      "PC\n",
      "64     21\n",
      "32      8\n",
      "8       6\n",
      "6       3\n",
      "4       2\n",
      "12      2\n",
      "16      2\n",
      "48      2\n",
      "128     2\n",
      "2       1\n",
      "24      1\n",
      "Name: count, dtype: int64\n",
      "--------------------\n",
      "Value counts for FC:\n",
      "FC\n",
      "32    20\n",
      "16    12\n",
      "4      6\n",
      "2      5\n",
      "8      4\n",
      "64     2\n",
      "12     1\n",
      "Name: count, dtype: int64\n",
      "--------------------\n"
     ]
    }
   ],
   "source": [
    "count_values(df,l4)"
   ]
  },
  {
   "cell_type": "markdown",
   "metadata": {},
   "source": [
    "### Create a histogram of the \"PC\" feature and also show the mean and the median\n"
   ]
  },
  {
   "cell_type": "code",
   "execution_count": 31,
   "metadata": {
    "id": "KtH-XWmqN86Z"
   },
   "outputs": [
    {
     "data": {
      "image/png": "[encoded data removed]",
      "text/plain": [
       "<Figure size 1000x600 with 1 Axes>"
      ]
     },
     "metadata": {},
     "output_type": "display_data"
    }
   ],
   "source": [
    "# Plotting the histogram\n",
    "plt.figure(figsize=(10, 6))\n",
    "plt.hist(df['PC'], bins=20, color='skyblue', edgecolor='black')\n",
    "plt.title('Histogram of PC Feature')\n",
    "plt.xlabel('Primary Camera Resolution (PC)')\n",
    "plt.ylabel('Frequency')\n",
    "\n",
    "# Adding mean and median lines\n",
    "mean_value = df['PC'].mean()\n",
    "median_value = df['PC'].median()\n",
    "plt.axvline(mean_value, color='red', linestyle='dashed', linewidth=2, label=f'Mean: {mean_value:.2f}')\n",
    "plt.axvline(median_value, color='green', linestyle='dashed', linewidth=2, label=f'Median: {median_value:.2f}')\n",
    "plt.legend()\n",
    "plt.show()\n"
   ]
  },
  {
   "cell_type": "markdown",
   "metadata": {},
   "source": [
    "### Create a histogram of the \"FC\" feature and also show the mean and the median\n",
    "\n",
    "\n"
   ]
  },
  {
   "cell_type": "code",
   "execution_count": 32,
   "metadata": {
    "id": "vMp3OWR0N86a"
   },
   "outputs": [
    {
     "data": {
      "image/png": "[encoded data removed]",
      "text/plain": [
       "<Figure size 1000x600 with 1 Axes>"
      ]
     },
     "metadata": {},
     "output_type": "display_data"
    }
   ],
   "source": [
    "# Plotting the histogram\n",
    "plt.figure(figsize=(10, 6))\n",
    "plt.hist(df['FC'], bins=20, color='skyblue', edgecolor='black')\n",
    "plt.title('Histogram of FC Feature')\n",
    "plt.xlabel('Front camera resolution (in MP) (FC)')\n",
    "plt.ylabel('Frequency')\n",
    "\n",
    "# Adding mean and median lines\n",
    "mean_value = df['FC'].mean()\n",
    "median_value = df['FC'].median()\n",
    "plt.axvline(mean_value, color='red', linestyle='dashed', linewidth=2, label=f'Mean: {mean_value:.2f}')\n",
    "plt.axvline(median_value, color='green', linestyle='dashed', linewidth=2, label=f'Median: {median_value:.2f}')\n",
    "plt.legend()\n",
    "plt.show()\n"
   ]
  },
  {
   "cell_type": "markdown",
   "metadata": {},
   "source": [
    "### The children want phones that have good primary and front camera resolutions\n",
    "### Consider the phones that have primary and front camera resolutions greater than or equal to their respective mean values\n",
    "### Create a logical condition for this situation and store the logical values as \"con4\""
   ]
  },
  {
   "cell_type": "code",
   "execution_count": 33,
   "metadata": {
    "id": "uwOY8IGoN86a"
   },
   "outputs": [],
   "source": [
    "# Calculate the mean values for PC and FC features\n",
    "mean_pc = df['PC'].mean()\n",
    "mean_fc = df['FC'].mean()\n",
    "\n",
    "# Create the logical condition con4\n",
    "con4 = (df['PC'] >= mean_pc) & (df['FC'] >= mean_fc)\n"
   ]
  },
  {
   "cell_type": "code",
   "execution_count": 34,
   "metadata": {},
   "outputs": [
    {
     "data": {
      "text/plain": [
       "0    False\n",
       "1    False\n",
       "2    False\n",
       "3    False\n",
       "4    False\n",
       "dtype: bool"
      ]
     },
     "execution_count": 34,
     "metadata": {},
     "output_type": "execute_result"
    }
   ],
   "source": [
    "con4.head()"
   ]
  },
  {
   "cell_type": "markdown",
   "metadata": {
    "id": "jo7yqfJSRvNT"
   },
   "source": [
    "Observations:\n",
    "\n",
    "The features \"PC\" and \"FC\" are respectively the resolutions of the primary camera and the front camera.\n",
    "\n",
    "The respective means have been selected as thresholds in this case.\n",
    "\n",
    "In case it is too strict, we can choose the respective medians as thresholds."
   ]
  },
  {
   "cell_type": "markdown",
   "metadata": {
    "id": "iu0E_MTAR3Pn"
   },
   "source": [
    "# Task 6 - Obtain the logical conditions for the features \"Int_Mem\", \"Bty_Pwr\" and \"RAM\""
   ]
  },
  {
   "cell_type": "code",
   "execution_count": 35,
   "metadata": {
    "id": "tnBJk7xFN86d"
   },
   "outputs": [
    {
     "name": "stdout",
     "output_type": "stream",
     "text": [
      "Value counts for Int_Mem:\n",
      "Int_Mem\n",
      "64      10\n",
      "128     10\n",
      "8        8\n",
      "32       8\n",
      "512      5\n",
      "16       3\n",
      "256      3\n",
      "1024     3\n",
      "Name: count, dtype: int64\n",
      "--------------------\n",
      "Value counts for Bty_Pwr:\n",
      "Bty_Pwr\n",
      "2800    13\n",
      "3000     6\n",
      "5600     4\n",
      "4500     4\n",
      "3300     3\n",
      "4860     3\n",
      "4800     2\n",
      "4400     2\n",
      "3900     2\n",
      "3200     2\n",
      "4000     1\n",
      "4380     1\n",
      "4300     1\n",
      "4200     1\n",
      "5000     1\n",
      "3400     1\n",
      "2980     1\n",
      "4560     1\n",
      "2300     1\n",
      "Name: count, dtype: int64\n",
      "--------------------\n",
      "Value counts for RAM:\n",
      "RAM\n",
      "8     18\n",
      "4     17\n",
      "2      8\n",
      "6      4\n",
      "12     3\n",
      "Name: count, dtype: int64\n",
      "--------------------\n"
     ]
    }
   ],
   "source": [
    "# Let's tackle these features: \"Int_Mem\", \"Bty_Pwr\", \"RAM\"\n",
    "l5 = [\"Int_Mem\", \"Bty_Pwr\", \"RAM\"]\n",
    "count_values(df,l5)"
   ]
  },
  {
   "cell_type": "markdown",
   "metadata": {},
   "source": [
    "### Create a histogram of the \"Int_Mem\" feature and also show the mean and the median"
   ]
  },
  {
   "cell_type": "code",
   "execution_count": 36,
   "metadata": {
    "id": "YMBT6fVEN86e"
   },
   "outputs": [
    {
     "data": {
      "image/png": "[encoded data removed]",
      "text/plain": [
       "<Figure size 1200x600 with 1 Axes>"
      ]
     },
     "metadata": {},
     "output_type": "display_data"
    }
   ],
   "source": [
    "plt.figure(figsize=[12,6])\n",
    "plt.hist(df['Int_Mem'], bins=20,color='skyblue',edgecolor='black')\n",
    "plt.title('Histogram of Int_Mem feature')\n",
    "plt.xlabel('Internal Memory (Int Mem)')\n",
    "plt.ylabel('Frequency')\n",
    "\n",
    "mean_value = df['Int_Mem'].mean()\n",
    "median_value = df['Int_Mem'].median()\n",
    "plt.axvline(mean_value, color='red', linestyle='dashed', linewidth=2, label=f'Mean: {mean_value:.2f}')\n",
    "plt.axvline(median_value, color='green', linestyle='dashed', linewidth=2, label=f'Median: {median_value:.2f}')\n",
    "plt.legend()\n",
    "plt.show()"
   ]
  },
  {
   "cell_type": "markdown",
   "metadata": {},
   "source": [
    "### Create a histogram of the \"Bty_Pwr\" feature and also show the mean and the median\n"
   ]
  },
  {
   "cell_type": "code",
   "execution_count": 37,
   "metadata": {
    "id": "oPjFp16vN86e"
   },
   "outputs": [
    {
     "data": {
      "image/png": "[encoded data removed]",
      "text/plain": [
       "<Figure size 1000x600 with 1 Axes>"
      ]
     },
     "metadata": {},
     "output_type": "display_data"
    }
   ],
   "source": [
    "# Plotting the histogram\n",
    "plt.figure(figsize=(10, 6))\n",
    "plt.hist(df['Bty_Pwr'], bins=20, color='skyblue', edgecolor='black')\n",
    "plt.title('Histogram of Bty_Pwr Feature')\n",
    "plt.xlabel('Battery Power (Bty_Pwr)')\n",
    "plt.ylabel('Frequency')\n",
    "\n",
    "# Adding mean and median lines\n",
    "mean_value = df['Bty_Pwr'].mean()\n",
    "median_value = df['Bty_Pwr'].median()\n",
    "plt.axvline(mean_value, color='red', linestyle='dashed', linewidth=2, label=f'Mean: {mean_value:.2f}')\n",
    "plt.axvline(median_value, color='green', linestyle='dashed', linewidth=2, label=f'Median: {median_value:.2f}')\n",
    "plt.legend()\n",
    "plt.show()\n",
    "\n",
    "\n"
   ]
  },
  {
   "cell_type": "markdown",
   "metadata": {},
   "source": [
    "### Create a histogram of the \"RAM\" feature and also show the mean and the median\n",
    "\n",
    "\n"
   ]
  },
  {
   "cell_type": "code",
   "execution_count": 38,
   "metadata": {
    "id": "TS83YmlQN86f"
   },
   "outputs": [
    {
     "data": {
      "image/png": "[encoded data removed]",
      "text/plain": [
       "<Figure size 1000x600 with 1 Axes>"
      ]
     },
     "metadata": {},
     "output_type": "display_data"
    }
   ],
   "source": [
    "# Plotting the histogram\n",
    "plt.figure(figsize=(10, 6))\n",
    "plt.hist(df['RAM'], bins=20, color='skyblue', edgecolor='black')\n",
    "plt.title('Histogram of RAM Feature')\n",
    "plt.xlabel('Random Access Memory (RAM)')\n",
    "plt.ylabel('Frequency')\n",
    "\n",
    "# Adding mean and median lines\n",
    "mean_value = df['RAM'].mean()\n",
    "median_value = df['RAM'].median()\n",
    "plt.axvline(mean_value, color='red', linestyle='dashed', linewidth=2, label=f'Mean: {mean_value:.2f}')\n",
    "plt.axvline(median_value, color='green', linestyle='dashed', linewidth=2, label=f'Median: {median_value:.2f}')\n",
    "plt.legend()\n",
    "plt.show()\n"
   ]
  },
  {
   "cell_type": "markdown",
   "metadata": {},
   "source": [
    "### The children want phones that have good internal memory, battery power and RAM\n",
    "### Consider the phones that have internal memory, battery power and RAM greater than or equal to their respective mean values\n",
    "### Create a logical condition for this situation and store the logical values as \"con5\"\n",
    "\n",
    "\n"
   ]
  },
  {
   "cell_type": "code",
   "execution_count": 39,
   "metadata": {
    "id": "Ty-VGMoDN86g"
   },
   "outputs": [],
   "source": [
    "# Calculate the mean values for Int_Mem, Bty_Pwr, and RAM features\n",
    "mean_int_mem = df['Int_Mem'].mean()\n",
    "mean_bty_pwr = df['Bty_Pwr'].mean()\n",
    "mean_ram = df['RAM'].mean()\n",
    "\n",
    "# Create the logical condition con5\n",
    "con5 = (df['Int_Mem'] >= mean_int_mem) & (df['Bty_Pwr'] >= mean_bty_pwr) & (df['RAM'] >= mean_ram)\n"
   ]
  },
  {
   "cell_type": "code",
   "execution_count": 40,
   "metadata": {},
   "outputs": [
    {
     "data": {
      "text/plain": [
       "0    False\n",
       "1    False\n",
       "2    False\n",
       "3    False\n",
       "4    False\n",
       "dtype: bool"
      ]
     },
     "execution_count": 40,
     "metadata": {},
     "output_type": "execute_result"
    }
   ],
   "source": [
    "con5.head()"
   ]
  },
  {
   "cell_type": "markdown",
   "metadata": {
    "id": "u5RzvXKoSHaw"
   },
   "source": [
    "Observations\n",
    "\n",
    "The features \"Int_Mem\", \"Bty_Pwr\" and \"RAM\" are respectively the internal memory, battery power and RAM of the phones.\n",
    "\n",
    "The respective means have been selected as thresholds in this case.\n",
    "\n",
    ".In case it is too strict, we can choose the respective medians as thresholds"
   ]
  },
  {
   "cell_type": "markdown",
   "metadata": {
    "id": "VVeYghyESO9y"
   },
   "source": [
    "# Task 7 - Obtain the logical conditions for the features \"Depth\" and \"Weight\""
   ]
  },
  {
   "cell_type": "code",
   "execution_count": 41,
   "metadata": {
    "id": "07nm7-V1N86j"
   },
   "outputs": [
    {
     "name": "stdout",
     "output_type": "stream",
     "text": [
      "Value counts for Depth:\n",
      "Depth\n",
      "3    31\n",
      "4    13\n",
      "7     3\n",
      "2     3\n",
      "Name: count, dtype: int64\n",
      "--------------------\n",
      "Value counts for Weight:\n",
      "Weight\n",
      "210    5\n",
      "150    5\n",
      "120    4\n",
      "160    3\n",
      "200    3\n",
      "80     3\n",
      "180    2\n",
      "110    2\n",
      "170    2\n",
      "250    2\n",
      "320    2\n",
      "270    2\n",
      "230    2\n",
      "300    2\n",
      "280    1\n",
      "100    1\n",
      "330    1\n",
      "220    1\n",
      "90     1\n",
      "400    1\n",
      "240    1\n",
      "310    1\n",
      "140    1\n",
      "260    1\n",
      "130    1\n",
      "Name: count, dtype: int64\n",
      "--------------------\n"
     ]
    }
   ],
   "source": [
    "# Let's tackle these features: \"Depth\", \"Weight\"\n",
    "l6 = [\"Depth\", \"Weight\"]\n",
    "count_values(df,l6)"
   ]
  },
  {
   "cell_type": "markdown",
   "metadata": {},
   "source": [
    "### Create a histogram of the \"Depth\" feature and also show the mean and the median"
   ]
  },
  {
   "cell_type": "code",
   "execution_count": 42,
   "metadata": {
    "id": "e88FFbusN86k"
   },
   "outputs": [
    {
     "data": {
      "image/png": "[encoded data removed]",
      "text/plain": [
       "<Figure size 1000x600 with 1 Axes>"
      ]
     },
     "metadata": {},
     "output_type": "display_data"
    }
   ],
   "source": [
    "# Plotting the histogram\n",
    "plt.figure(figsize=(10, 6))\n",
    "plt.hist(df['Depth'], bins=20, color='skyblue', edgecolor='black')\n",
    "plt.title('Histogram of Depth Feature')\n",
    "plt.xlabel('Depth of the Mobile Phone (Depth)')\n",
    "plt.ylabel('Frequency')\n",
    "\n",
    "# Adding mean and median lines\n",
    "mean_value = df['Depth'].mean()\n",
    "median_value = df['Depth'].median()\n",
    "plt.axvline(mean_value, color='red', linestyle='dashed', linewidth=2, label=f'Mean: {mean_value:.2f}')\n",
    "plt.axvline(median_value, color='green', linestyle='dashed', linewidth=2, label=f'Median: {median_value:.2f}')\n",
    "plt.legend()\n",
    "plt.show()\n"
   ]
  },
  {
   "cell_type": "markdown",
   "metadata": {},
   "source": [
    "### Create a histogram of the \"Weight\" feature and also show the mean and the median\n"
   ]
  },
  {
   "cell_type": "code",
   "execution_count": 43,
   "metadata": {
    "id": "-lXTqLttN86l"
   },
   "outputs": [
    {
     "data": {
      "image/png": "[encoded data removed]",
      "text/plain": [
       "<Figure size 1000x600 with 1 Axes>"
      ]
     },
     "metadata": {},
     "output_type": "display_data"
    }
   ],
   "source": [
    "# Plotting the histogram\n",
    "plt.figure(figsize=(10, 6))\n",
    "plt.hist(df['Weight'], bins=20, color='skyblue', edgecolor='black')\n",
    "plt.title('Histogram of Weight Feature')\n",
    "plt.xlabel('Weight of the Mobile Phone (Weight)')\n",
    "plt.ylabel('Frequency')\n",
    "\n",
    "# Adding mean and median lines\n",
    "mean_value = df['Weight'].mean()\n",
    "median_value = df['Weight'].median()\n",
    "plt.axvline(mean_value, color='red', linestyle='dashed', linewidth=2, label=f'Mean: {mean_value:.2f}')\n",
    "plt.axvline(median_value, color='green', linestyle='dashed', linewidth=2, label=f'Median: {median_value:.2f}')\n",
    "plt.legend()\n",
    "plt.show()\n"
   ]
  },
  {
   "cell_type": "markdown",
   "metadata": {},
   "source": [
    "### The children want phones that are light weight and slim\n",
    "### Consider the phones that have depth and weight less than or equal to the respective median values in the data set\n",
    "### Create a logical condition for this situation and store the logical values as \"con6\"\n"
   ]
  },
  {
   "cell_type": "code",
   "execution_count": 44,
   "metadata": {
    "id": "7ZYJmwzJN86l"
   },
   "outputs": [],
   "source": [
    "# Calculate the median values for Depth and Weight features\n",
    "median_depth = df['Depth'].median()\n",
    "median_weight = df['Weight'].median()\n",
    "\n",
    "# Create the logical condition con6\n",
    "con6 = (df['Depth'] <= median_depth) & (df['Weight'] <= median_weight)\n"
   ]
  },
  {
   "cell_type": "code",
   "execution_count": 45,
   "metadata": {},
   "outputs": [
    {
     "data": {
      "text/plain": [
       "0    False\n",
       "1    False\n",
       "2    False\n",
       "3    False\n",
       "4    False\n",
       "dtype: bool"
      ]
     },
     "execution_count": 45,
     "metadata": {},
     "output_type": "execute_result"
    }
   ],
   "source": [
    "con6.head()"
   ]
  },
  {
   "cell_type": "markdown",
   "metadata": {
    "id": "l32BIHsdSbHy"
   },
   "source": [
    "Observations:\n",
    "\n",
    "The features \"Depth\" and \"Weight\" are respectively the depth of the phone and the weight of the phone.\n",
    "\n",
    "The respective medians have been selected as thresholds in this case.\n",
    "\n",
    "In case it is too strict, we can choose the respective means as thresholds."
   ]
  },
  {
   "cell_type": "markdown",
   "metadata": {
    "id": "3UYMHQseSjZp"
   },
   "source": [
    "# Task 8 - Subset the data based on all the logical conditions"
   ]
  },
  {
   "cell_type": "code",
   "execution_count": 46,
   "metadata": {
    "id": "iKFweH2xN86o"
   },
   "outputs": [],
   "source": [
    "# Subset the DataFrame using logical conditions\n",
    "df1 = df[con1 & con2 & con3 & con4 & con5 & con6]\n"
   ]
  },
  {
   "cell_type": "code",
   "execution_count": 47,
   "metadata": {},
   "outputs": [
    {
     "data": {
      "text/html": [
       "<div>\n",
       "<style scoped>\n",
       "    .dataframe tbody tr th:only-of-type {\n",
       "        vertical-align: middle;\n",
       "    }\n",
       "\n",
       "    .dataframe tbody tr th {\n",
       "        vertical-align: top;\n",
       "    }\n",
       "\n",
       "    .dataframe thead th {\n",
       "        text-align: right;\n",
       "    }\n",
       "</style>\n",
       "<table border=\"1\" class=\"dataframe\">\n",
       "  <thead>\n",
       "    <tr style=\"text-align: right;\">\n",
       "      <th></th>\n",
       "      <th>PID</th>\n",
       "      <th>Blue</th>\n",
       "      <th>Wi_Fi</th>\n",
       "      <th>Tch_Scr</th>\n",
       "      <th>Ext_Mem</th>\n",
       "      <th>Px_h</th>\n",
       "      <th>Px_w</th>\n",
       "      <th>Scr_h</th>\n",
       "      <th>Scr_w</th>\n",
       "      <th>PC</th>\n",
       "      <th>FC</th>\n",
       "      <th>Int_Mem</th>\n",
       "      <th>Bty_Pwr</th>\n",
       "      <th>RAM</th>\n",
       "      <th>Depth</th>\n",
       "      <th>Weight</th>\n",
       "      <th>Price</th>\n",
       "      <th>Px</th>\n",
       "      <th>Scr_d</th>\n",
       "    </tr>\n",
       "  </thead>\n",
       "  <tbody>\n",
       "    <tr>\n",
       "      <th>30</th>\n",
       "      <td>TVF078Y</td>\n",
       "      <td>yes</td>\n",
       "      <td>yes</td>\n",
       "      <td>yes</td>\n",
       "      <td>yes</td>\n",
       "      <td>2580</td>\n",
       "      <td>2120</td>\n",
       "      <td>8</td>\n",
       "      <td>6</td>\n",
       "      <td>64</td>\n",
       "      <td>32</td>\n",
       "      <td>512</td>\n",
       "      <td>4860</td>\n",
       "      <td>8</td>\n",
       "      <td>3</td>\n",
       "      <td>90</td>\n",
       "      <td>29999</td>\n",
       "      <td>4700</td>\n",
       "      <td>10.0</td>\n",
       "    </tr>\n",
       "    <tr>\n",
       "      <th>32</th>\n",
       "      <td>TYS938L</td>\n",
       "      <td>yes</td>\n",
       "      <td>yes</td>\n",
       "      <td>yes</td>\n",
       "      <td>yes</td>\n",
       "      <td>2580</td>\n",
       "      <td>2120</td>\n",
       "      <td>8</td>\n",
       "      <td>6</td>\n",
       "      <td>64</td>\n",
       "      <td>32</td>\n",
       "      <td>1024</td>\n",
       "      <td>4860</td>\n",
       "      <td>8</td>\n",
       "      <td>3</td>\n",
       "      <td>120</td>\n",
       "      <td>46777</td>\n",
       "      <td>4700</td>\n",
       "      <td>10.0</td>\n",
       "    </tr>\n",
       "    <tr>\n",
       "      <th>42</th>\n",
       "      <td>WZB298K</td>\n",
       "      <td>yes</td>\n",
       "      <td>yes</td>\n",
       "      <td>yes</td>\n",
       "      <td>yes</td>\n",
       "      <td>2580</td>\n",
       "      <td>1980</td>\n",
       "      <td>8</td>\n",
       "      <td>6</td>\n",
       "      <td>64</td>\n",
       "      <td>32</td>\n",
       "      <td>1024</td>\n",
       "      <td>5600</td>\n",
       "      <td>8</td>\n",
       "      <td>3</td>\n",
       "      <td>160</td>\n",
       "      <td>39000</td>\n",
       "      <td>4560</td>\n",
       "      <td>10.0</td>\n",
       "    </tr>\n",
       "  </tbody>\n",
       "</table>\n",
       "</div>"
      ],
      "text/plain": [
       "        PID Blue Wi_Fi Tch_Scr Ext_Mem  Px_h  Px_w  Scr_h  Scr_w  PC  FC  \\\n",
       "30  TVF078Y  yes   yes     yes     yes  2580  2120      8      6  64  32   \n",
       "32  TYS938L  yes   yes     yes     yes  2580  2120      8      6  64  32   \n",
       "42  WZB298K  yes   yes     yes     yes  2580  1980      8      6  64  32   \n",
       "\n",
       "    Int_Mem  Bty_Pwr  RAM  Depth  Weight  Price    Px  Scr_d  \n",
       "30      512     4860    8      3      90  29999  4700   10.0  \n",
       "32     1024     4860    8      3     120  46777  4700   10.0  \n",
       "42     1024     5600    8      3     160  39000  4560   10.0  "
      ]
     },
     "execution_count": 47,
     "metadata": {},
     "output_type": "execute_result"
    }
   ],
   "source": [
    "df1.head()\n",
    "\n"
   ]
  },
  {
   "cell_type": "code",
   "execution_count": 48,
   "metadata": {
    "id": "Y0Bp7BKkN86o"
   },
   "outputs": [
    {
     "data": {
      "text/plain": [
       "(3, 19)"
      ]
     },
     "execution_count": 48,
     "metadata": {},
     "output_type": "execute_result"
    }
   ],
   "source": [
    "# Get the dimensions of the dataframe\n",
    "df1.shape\n"
   ]
  },
  {
   "cell_type": "code",
   "execution_count": 49,
   "metadata": {
    "id": "H5tg2OEkN86p"
   },
   "outputs": [],
   "source": [
    "# Sort the dataframe according to the \"Price\" feature in ascending order and display it\n",
    "df1_sorted = df1.sort_values(by='Price',ascending=True)\n"
   ]
  },
  {
   "cell_type": "code",
   "execution_count": 50,
   "metadata": {},
   "outputs": [
    {
     "data": {
      "text/html": [
       "<div>\n",
       "<style scoped>\n",
       "    .dataframe tbody tr th:only-of-type {\n",
       "        vertical-align: middle;\n",
       "    }\n",
       "\n",
       "    .dataframe tbody tr th {\n",
       "        vertical-align: top;\n",
       "    }\n",
       "\n",
       "    .dataframe thead th {\n",
       "        text-align: right;\n",
       "    }\n",
       "</style>\n",
       "<table border=\"1\" class=\"dataframe\">\n",
       "  <thead>\n",
       "    <tr style=\"text-align: right;\">\n",
       "      <th></th>\n",
       "      <th>PID</th>\n",
       "      <th>Blue</th>\n",
       "      <th>Wi_Fi</th>\n",
       "      <th>Tch_Scr</th>\n",
       "      <th>Ext_Mem</th>\n",
       "      <th>Px_h</th>\n",
       "      <th>Px_w</th>\n",
       "      <th>Scr_h</th>\n",
       "      <th>Scr_w</th>\n",
       "      <th>PC</th>\n",
       "      <th>FC</th>\n",
       "      <th>Int_Mem</th>\n",
       "      <th>Bty_Pwr</th>\n",
       "      <th>RAM</th>\n",
       "      <th>Depth</th>\n",
       "      <th>Weight</th>\n",
       "      <th>Price</th>\n",
       "      <th>Px</th>\n",
       "      <th>Scr_d</th>\n",
       "    </tr>\n",
       "  </thead>\n",
       "  <tbody>\n",
       "    <tr>\n",
       "      <th>30</th>\n",
       "      <td>TVF078Y</td>\n",
       "      <td>yes</td>\n",
       "      <td>yes</td>\n",
       "      <td>yes</td>\n",
       "      <td>yes</td>\n",
       "      <td>2580</td>\n",
       "      <td>2120</td>\n",
       "      <td>8</td>\n",
       "      <td>6</td>\n",
       "      <td>64</td>\n",
       "      <td>32</td>\n",
       "      <td>512</td>\n",
       "      <td>4860</td>\n",
       "      <td>8</td>\n",
       "      <td>3</td>\n",
       "      <td>90</td>\n",
       "      <td>29999</td>\n",
       "      <td>4700</td>\n",
       "      <td>10.0</td>\n",
       "    </tr>\n",
       "    <tr>\n",
       "      <th>42</th>\n",
       "      <td>WZB298K</td>\n",
       "      <td>yes</td>\n",
       "      <td>yes</td>\n",
       "      <td>yes</td>\n",
       "      <td>yes</td>\n",
       "      <td>2580</td>\n",
       "      <td>1980</td>\n",
       "      <td>8</td>\n",
       "      <td>6</td>\n",
       "      <td>64</td>\n",
       "      <td>32</td>\n",
       "      <td>1024</td>\n",
       "      <td>5600</td>\n",
       "      <td>8</td>\n",
       "      <td>3</td>\n",
       "      <td>160</td>\n",
       "      <td>39000</td>\n",
       "      <td>4560</td>\n",
       "      <td>10.0</td>\n",
       "    </tr>\n",
       "    <tr>\n",
       "      <th>32</th>\n",
       "      <td>TYS938L</td>\n",
       "      <td>yes</td>\n",
       "      <td>yes</td>\n",
       "      <td>yes</td>\n",
       "      <td>yes</td>\n",
       "      <td>2580</td>\n",
       "      <td>2120</td>\n",
       "      <td>8</td>\n",
       "      <td>6</td>\n",
       "      <td>64</td>\n",
       "      <td>32</td>\n",
       "      <td>1024</td>\n",
       "      <td>4860</td>\n",
       "      <td>8</td>\n",
       "      <td>3</td>\n",
       "      <td>120</td>\n",
       "      <td>46777</td>\n",
       "      <td>4700</td>\n",
       "      <td>10.0</td>\n",
       "    </tr>\n",
       "  </tbody>\n",
       "</table>\n",
       "</div>"
      ],
      "text/plain": [
       "        PID Blue Wi_Fi Tch_Scr Ext_Mem  Px_h  Px_w  Scr_h  Scr_w  PC  FC  \\\n",
       "30  TVF078Y  yes   yes     yes     yes  2580  2120      8      6  64  32   \n",
       "42  WZB298K  yes   yes     yes     yes  2580  1980      8      6  64  32   \n",
       "32  TYS938L  yes   yes     yes     yes  2580  2120      8      6  64  32   \n",
       "\n",
       "    Int_Mem  Bty_Pwr  RAM  Depth  Weight  Price    Px  Scr_d  \n",
       "30      512     4860    8      3      90  29999  4700   10.0  \n",
       "42     1024     5600    8      3     160  39000  4560   10.0  \n",
       "32     1024     4860    8      3     120  46777  4700   10.0  "
      ]
     },
     "execution_count": 50,
     "metadata": {},
     "output_type": "execute_result"
    }
   ],
   "source": [
    "df1_sorted.head()"
   ]
  },
  {
   "cell_type": "markdown",
   "metadata": {
    "id": "Zn6iT-HQSocg"
   },
   "source": [
    "Observations:\n",
    "\n",
    "Based on all the logical conditions obtained through analysis of the features, we are left with three phones.\n",
    "\n",
    "The most expensive of these phones is the \"TYS938L\" model and the least expensive is the \"TVF078Y\" model.\n",
    "\n",
    "We could let the children choose from these three phones as per their preferences."
   ]
  },
  {
   "cell_type": "markdown",
   "metadata": {
    "id": "O09ZVXlbSvhj"
   },
   "source": [
    "# Task 9 - Study the variability of the features in the original data set"
   ]
  },
  {
   "cell_type": "markdown",
   "metadata": {},
   "source": [
    "### Calculate the ratio of the standard deviation to the mean for all the numerical features in the dataframe\n",
    "### Store these values in a new series wherein the rows are the features and the only column is the calculated ratio\n"
   ]
  },
  {
   "cell_type": "code",
   "execution_count": 51,
   "metadata": {
    "id": "grfzKBDyN86r"
   },
   "outputs": [],
   "source": [
    "# Calculate the ratio of standard deviation to mean for all numerical features\n",
    "deviations = (df1_sorted.select_dtypes(include='number').std() / df1_sorted.select_dtypes(include='number').mean()).rename(\"Ratio\")\n"
   ]
  },
  {
   "cell_type": "code",
   "execution_count": 52,
   "metadata": {},
   "outputs": [
    {
     "data": {
      "text/plain": [
       "Px_h     0.000000\n",
       "Px_w     0.038985\n",
       "Scr_h    0.000000\n",
       "Scr_w    0.000000\n",
       "PC       0.000000\n",
       "Name: Ratio, dtype: float64"
      ]
     },
     "execution_count": 52,
     "metadata": {},
     "output_type": "execute_result"
    }
   ],
   "source": [
    "deviations.head()"
   ]
  },
  {
   "cell_type": "code",
   "execution_count": 53,
   "metadata": {
    "id": "sBRqrnVaN86s"
   },
   "outputs": [],
   "source": [
    "# Sort the \"deviations\" Series in descending order\n",
    "deviations_sorted = deviations.sort_values(ascending=False)\n"
   ]
  },
  {
   "cell_type": "code",
   "execution_count": 54,
   "metadata": {},
   "outputs": [
    {
     "data": {
      "text/plain": [
       "Int_Mem    0.346410\n",
       "Weight     0.284747\n",
       "Price      0.217569\n",
       "Bty_Pwr    0.083663\n",
       "Px_w       0.038985\n",
       "Name: Ratio, dtype: float64"
      ]
     },
     "execution_count": 54,
     "metadata": {},
     "output_type": "execute_result"
    }
   ],
   "source": [
    "deviations_sorted.head()\n"
   ]
  },
  {
   "cell_type": "markdown",
   "metadata": {
    "id": "RSypqWHuSzJU"
   },
   "source": [
    "<div style=\"background: linear-gradient(to right, #6495ED, #4169E1); padding: 20px; border-radius: 10px; color: white;\">\n",
    "    <h2 style=\"font-size:40px;\">Observations</h2>\n",
    "    <ul style=\"padding: 10;\">\n",
    "        <li>The ratio of the standard deviation to the mean of a feature normalizes it, allowing for comparison between multiple features.</li>\n",
    "        <li>The most variable feature in the original data set is the internal memory of the phones.</li>\n",
    "        <li>The least variable feature in the original data set is the number of screen pixels in the horizontal axis.</li>\n",
    "        <li>Although most features don't seem highly variable, the prices of the phones are quite variable.</li>\n",
    "        <li>Feel free to investigate what could be the cause of this difference in variability.</li>\n",
    "        <li>Note: We encourage you to extend this analysis further and see what else you can find.</li>\n",
    "        <li>Note: Please refer to the official website of Python and its libraries for various Python documentations.</li>\n",
    "    </ul>\n",
    "</div>\n"
   ]
  },
  {
   "cell_type": "markdown",
   "metadata": {
    "id": "kE4_U-R9TI_d"
   },
   "source": [
    "<div style=\"background: linear-gradient(to right, #ff006e, #3a86ff); padding: 20px; border-radius: 10px; color: white;\">\n",
    "    <h2>Conclusion</h2>\n",
    "    <p style=\"font-size: 18px;\">1. We have applied descriptive statistics concepts to analyze and work with a dataset containing mobile phone specifications.</p>\n",
    "    <p style=\"font-size: 18px;\">2. Based on the analysis, we recommend three phone models to the client, which she can propose to her children.</p>\n",
    "</div>\n"
   ]
  },
  {
   "cell_type": "code",
   "execution_count": null,
   "metadata": {
    "id": "8TQnykmJhK6w"
   },
   "outputs": [],
   "source": []
  }
 ],
 "metadata": {
  "colab": {
   "provenance": []
  },
  "kernelspec": {
   "display_name": "Python 3 (ipykernel)",
   "language": "python",
   "name": "python3"
  },
  "language_info": {
   "codemirror_mode": {
    "name": "ipython",
    "version": 3
   },
   "file_extension": ".py",
   "mimetype": "text/x-python",
   "name": "python",
   "nbconvert_exporter": "python",
   "pygments_lexer": "ipython3",
   "version": "3.11.7"
  }
 },
 "nbformat": 4,
 "nbformat_minor": 4
}
